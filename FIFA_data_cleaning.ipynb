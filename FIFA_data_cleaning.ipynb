{
 "cells": [
  {
   "cell_type": "code",
   "execution_count": 51,
   "metadata": {
    "ExecuteTime": {
     "end_time": "2020-01-09T20:35:05.005893Z",
     "start_time": "2020-01-09T20:35:05.002925Z"
    }
   },
   "outputs": [],
   "source": [
    "import pandas as pd\n",
    "import numpy as np\n",
    "import pickle"
   ]
  },
  {
   "cell_type": "markdown",
   "metadata": {
    "heading_collapsed": true
   },
   "source": [
    "## Preprocess FIFA data"
   ]
  },
  {
   "cell_type": "code",
   "execution_count": 310,
   "metadata": {
    "ExecuteTime": {
     "end_time": "2020-01-10T15:05:44.657519Z",
     "start_time": "2020-01-10T15:05:44.190394Z"
    },
    "hidden": true
   },
   "outputs": [],
   "source": [
    "filename=\"./fifa data/fifa2020data.csv\"\n",
    "fifa_df=pd.read_csv(filename)"
   ]
  },
  {
   "cell_type": "code",
   "execution_count": 311,
   "metadata": {
    "ExecuteTime": {
     "end_time": "2020-01-10T15:05:45.086931Z",
     "start_time": "2020-01-10T15:05:45.080126Z"
    },
    "hidden": true
   },
   "outputs": [
    {
     "data": {
      "text/plain": [
       "Index(['sofifa_id', 'player_url', 'short_name', 'long_name', 'age', 'dob',\n",
       "       'height_cm', 'weight_kg', 'nationality', 'club', 'overall', 'potential',\n",
       "       'value_eur', 'wage_eur', 'player_positions', 'preferred_foot',\n",
       "       'international_reputation', 'weak_foot', 'skill_moves', 'work_rate'],\n",
       "      dtype='object')"
      ]
     },
     "execution_count": 311,
     "metadata": {},
     "output_type": "execute_result"
    }
   ],
   "source": [
    "#check data schema\n",
    "fifa_df.columns[:20]"
   ]
  },
  {
   "cell_type": "code",
   "execution_count": 312,
   "metadata": {
    "ExecuteTime": {
     "end_time": "2020-01-10T15:05:45.224706Z",
     "start_time": "2020-01-10T15:05:45.222414Z"
    },
    "hidden": true
   },
   "outputs": [],
   "source": [
    "# # clean currency column\n",
    "# def currency_cleaner(amount):\n",
    "#     if amount.endswith('M'):   \n",
    "#         return float(amount[1:-1])*1e6\n",
    "#     if amount.endswith('K'):\n",
    "#         return float(amount[1:-1])*1e3\n",
    "# fifa_df.Value=fifa_df.Value.apply(currency_cleaner)\n",
    "# fifa_df.Wage=fifa_df.Wage.apply(currency_cleaner)\n"
   ]
  },
  {
   "cell_type": "code",
   "execution_count": 313,
   "metadata": {
    "ExecuteTime": {
     "end_time": "2020-01-10T15:05:45.422050Z",
     "start_time": "2020-01-10T15:05:45.349896Z"
    },
    "hidden": true
   },
   "outputs": [],
   "source": [
    "# group fifa player data by club and aggregate by averaging to get the club data\n",
    "team_attributes_df = fifa_df.groupby('club').mean(\n",
    ")[['overall', 'value_eur', 'wage_eur', 'age', 'potential', 'international_reputation']].sort_values(by='value_eur', ascending=False)\n",
    "\n",
    "team_attributes_df = team_attributes_df.reset_index()\n",
    "\n",
    "team_attributes_df\n",
    "\n",
    "FIFA_club_name = team_attributes_df['club'].unique()"
   ]
  },
  {
   "cell_type": "code",
   "execution_count": 314,
   "metadata": {
    "ExecuteTime": {
     "end_time": "2020-01-10T15:05:45.556202Z",
     "start_time": "2020-01-10T15:05:45.482384Z"
    },
    "hidden": true
   },
   "outputs": [],
   "source": [
    "# load transfer data , for future merge use\n",
    "pkl_file = open('./temporary_pkl/transfer_span_reduced.pkl','rb')\n",
    "transfer_span_reduced = pickle.load(pkl_file)\n",
    "pkl_file.close()"
   ]
  },
  {
   "cell_type": "code",
   "execution_count": 315,
   "metadata": {
    "ExecuteTime": {
     "end_time": "2020-01-10T15:05:45.628747Z",
     "start_time": "2020-01-10T15:05:45.621970Z"
    },
    "hidden": true
   },
   "outputs": [],
   "source": [
    "network_club_name=list(transfer_span_reduced['club_name'].unique())\n",
    "\n",
    "# ['Arsenal', 'Stoke City', 'Wolverhampton Wanderers', 'Chelsea',\n",
    "#        'Newcastle United', 'Fulham', 'West Bromwich Albion',\n",
    "#        'Manchester United', 'Wigan Athletic', 'Aston Villa',\n",
    "#        'West Ham United', 'Everton', 'Liverpool', 'Tottenham Hotspur',\n",
    "#        'Blackburn Rovers', 'Manchester City', 'Sunderland AFC',\n",
    "#        'Birmingham City', 'Bolton Wanderers', 'Blackpool', 'AC Milan',\n",
    "#        'AS Roma', 'Brescia Calcio', 'Internazionale', 'Parma', 'GenoaC',\n",
    "#        'AS Bari', 'SS Lazio', 'Udinese Calcio', 'AFiorentina',\n",
    "#        'US Palermo', 'Juventus', 'Chievo Verona', 'US Lecce', 'Bologna ',\n",
    "#        'UC Sampdoria', 'Cagliari Calcio', 'AC Cesena', 'Calcio Catania',\n",
    "#        'SSC Napoli', 'Girondins Bordeaux', 'AS Monaco',\n",
    "#        'Olympique Marseille', 'Stade Rennais', 'AJ Auxerre', 'Toulouse',\n",
    "#        'OGC Nice', 'Paris Saint-Germain', 'AS Saint-Étienne',\n",
    "#        'Sochaux-Montbéliard', 'RC Lens', 'HSC Montpellier',\n",
    "#        'Olympique Lyon', 'LOSC Lille', 'Lorient', 'AS Nancy-Lorraine',\n",
    "#        'SM Caen', 'Valenciennes', 'Stade Brest ',\n",
    "#        'Athlétic Club Arlésien', 'SL Benfica', 'Sporting CP', 'Porto',\n",
    "#        'CD Nacional', 'SC Braga', 'Vitória Setúbal', 'CS Marítimo',\n",
    "#        'SC Beira-Mar', 'Vitória Guimarães SC', 'Rio Ave',\n",
    "#        'União de Leiria', 'Académica Coimbra', 'Paços de Ferreira',\n",
    "#        'SC Olhanense', 'Naval º de Maio', 'Portimonense SC',\n",
    "#        'Borussia Dortmund', 'Bayern Munich', 'Schalke ',\n",
    "#        'Borussia Mönchengladbach', 'Bayer  Leverkusen', 'VfB Stuttgart',\n",
    "#        'Hannover ', 'VfL Wolfsburg', 'SV Werder Bremen', '.Nuremberg',\n",
    "#        'Eintracht Frankfurt', 'TSG  Hoffenheim', 'SC Freiburg',\n",
    "#        '.FSV Mainz ', 'Hamburger SV', '. Köln', '.Kaiserslautern',\n",
    "#        'St. Pauli', 'Atlético Madrid', 'Barcelona', 'Real Zaragoza',\n",
    "#        'RCD Mallorca', 'CA Osasuna', 'Sevilla', 'Real Madrid',\n",
    "#        'Racing Santander', 'Real Sociedad', 'RCD Espanyol Barcelona',\n",
    "#        'Deportivo de La Coruña', 'Valencia', 'Villarreal', 'Málaga',\n",
    "#        'Sporting Gijón', 'UD Almería', 'Levante UD', 'Getafe', 'Hércules',\n",
    "#        'Athletic Bilbao', 'NAC Breda', 'Roda JC Kerkrade', 'Utrecht',\n",
    "#        'Groningen', 'Feyenoord Rotterdam', 'SC Heerenveen',\n",
    "#        'Twente Enschede', 'PSV Eindhoven', 'Willem II Tilburg',\n",
    "#        'NEC Nijmegen', 'Vitesse Arnhem', 'Ajax Amsterdam',\n",
    "#        'De Graafschap Doetinchem', 'SBV Excelsior Rotterdam',\n",
    "#        'AZ Alkmaar', 'ADO Den Haag', 'Heracles Almelo', 'VVV-Venlo',\n",
    "#        'Queens Park Rangers', 'Norwich City', 'Swansea City',\n",
    "#        'Atalanta BC', 'AC Siena', 'Novara Calcio ', 'AC Ajaccio',\n",
    "#        'FCO Dijon', 'Évian Thonon Gaillard', 'Gil Vicente', 'CD Feirense',\n",
    "#        'Augsburg', 'Hertha BSC', 'Real Betis Balompié', 'Rayo Vallecano',\n",
    "#        'Granada', 'RKC Waalwijk', 'Southampton', 'Reading',\n",
    "#        'Delfino Pescara ', 'Torino', 'SC Bastia', 'ES Troyes AC',\n",
    "#        'Stade Reims', 'GD Estoril', 'Moreirense', 'SpVgg Greuther Fürth',\n",
    "#        'Fortuna Düsseldorf', 'Real Valladolid', 'Celta de Vigo',\n",
    "#        'PEC Zwolle', 'Cardiff City', 'Hull City', 'Crystal Palace',\n",
    "#        'Hellas Verona', 'AS Livorno', 'US Sassuolo', 'EA Guingamp',\n",
    "#        'Nantes', 'Belenenses SAD', 'Arouca', 'Eintracht Braunschweig',\n",
    "#        'Elche', 'SC Cambuur-Leeuwarden', 'Go Ahead Eagles Deventer',\n",
    "#        'Burnley', 'Leicester City', 'Empoli', 'Inter Milan', 'Metz',\n",
    "#        'Penafiel', 'Boavista Porto', 'SC Paderborn ', 'SD Eibar',\n",
    "#        'Córdoba', 'Dordrecht', 'ABournemouth', 'Watford', 'Carpi ',\n",
    "#        'Frosinone Calcio', 'SCO Angers', 'GAjaccio', 'CD Tondela',\n",
    "#        'União Madeira', 'Ingolstadt ', 'SV Darmstadt ', 'UD Las Palmas',\n",
    "#        'Middlesbrough', 'Crotone', 'GD Chaves', 'RB Leipzig',\n",
    "#        'Deportivo Alavés', 'CD Leganés', 'Sparta Rotterdam',\n",
    "#        'Brighton & Hove Albion', 'Huddersfield Town', 'Benevento Calcio',\n",
    "#        'SPAL ', 'SC Amiens', 'RC Strasbourg Alsace', 'Desportivo Aves',\n",
    "#        'Girona', 'Parma Calcio ', 'SPAL', 'Nîmes Olympique',\n",
    "#        'CD Santa Clara', 'SD Huesca', 'Emmen', 'Fortuna Sittard',\n",
    "#        'Sheffield United', 'Famalicão', '.Union Berlin']\n",
    "\n",
    "#len(list(transfer_span_reduced['club_name'].unique()))=224\n",
    "#len(set(network_club_name))=224 , thus no duplicate"
   ]
  },
  {
   "cell_type": "code",
   "execution_count": 316,
   "metadata": {
    "ExecuteTime": {
     "end_time": "2020-01-10T15:05:45.742518Z",
     "start_time": "2020-01-10T15:05:45.734011Z"
    },
    "hidden": true
   },
   "outputs": [],
   "source": [
    "missing_club=[club for club in network_club_name if not(club in  FIFA_club_name)]"
   ]
  },
  {
   "cell_type": "code",
   "execution_count": 317,
   "metadata": {
    "ExecuteTime": {
     "end_time": "2020-01-10T15:05:45.862898Z",
     "start_time": "2020-01-10T15:05:45.858254Z"
    },
    "hidden": true
   },
   "outputs": [
    {
     "data": {
      "text/plain": [
       "(129, 224)"
      ]
     },
     "execution_count": 317,
     "metadata": {},
     "output_type": "execute_result"
    }
   ],
   "source": [
    "len(missing_club),len(network_club_name)  # "
   ]
  },
  {
   "cell_type": "code",
   "execution_count": 318,
   "metadata": {
    "ExecuteTime": {
     "end_time": "2020-01-10T15:05:46.003702Z",
     "start_time": "2020-01-10T15:05:46.000244Z"
    },
    "hidden": true
   },
   "outputs": [
    {
     "data": {
      "text/plain": [
       "['Sunderland AFC',\n",
       " 'AC Milan',\n",
       " 'AS Roma',\n",
       " 'Brescia Calcio',\n",
       " 'Internazionale',\n",
       " 'GenoaC',\n",
       " 'AS Bari',\n",
       " 'SS Lazio',\n",
       " 'Udinese Calcio',\n",
       " 'AFiorentina',\n",
       " 'US Palermo',\n",
       " 'US Lecce',\n",
       " 'Bologna ',\n",
       " 'UC Sampdoria',\n",
       " 'Cagliari Calcio',\n",
       " 'AC Cesena',\n",
       " 'Calcio Catania',\n",
       " 'SSC Napoli',\n",
       " 'Girondins Bordeaux',\n",
       " 'Olympique Marseille',\n",
       " 'Stade Rennais',\n",
       " 'Toulouse',\n",
       " 'Sochaux-Montbéliard',\n",
       " 'RC Lens',\n",
       " 'HSC Montpellier',\n",
       " 'Olympique Lyon',\n",
       " 'Lorient',\n",
       " 'AS Nancy-Lorraine',\n",
       " 'SM Caen',\n",
       " 'Valenciennes',\n",
       " 'Stade Brest ',\n",
       " 'Athlétic Club Arlésien',\n",
       " 'Porto',\n",
       " 'CD Nacional',\n",
       " 'Vitória Setúbal',\n",
       " 'CS Marítimo',\n",
       " 'SC Beira-Mar',\n",
       " 'Vitória Guimarães SC',\n",
       " 'Rio Ave',\n",
       " 'União de Leiria',\n",
       " 'Académica Coimbra',\n",
       " 'Paços de Ferreira',\n",
       " 'SC Olhanense',\n",
       " 'Naval º de Maio',\n",
       " 'Bayern Munich',\n",
       " 'Schalke ',\n",
       " 'Bayer  Leverkusen',\n",
       " 'Hannover ',\n",
       " '.Nuremberg',\n",
       " 'TSG  Hoffenheim',\n",
       " '.FSV Mainz ',\n",
       " '. Köln',\n",
       " '.Kaiserslautern',\n",
       " 'St. Pauli',\n",
       " 'Barcelona',\n",
       " 'Sevilla',\n",
       " 'RCD Espanyol Barcelona',\n",
       " 'Valencia',\n",
       " 'Villarreal',\n",
       " 'Málaga',\n",
       " 'Sporting Gijón',\n",
       " 'Getafe',\n",
       " 'Hércules',\n",
       " 'Athletic Bilbao',\n",
       " 'NAC Breda',\n",
       " 'Roda JC Kerkrade',\n",
       " 'Utrecht',\n",
       " 'Groningen',\n",
       " 'Feyenoord Rotterdam',\n",
       " 'Twente Enschede',\n",
       " 'PSV Eindhoven',\n",
       " 'Willem II Tilburg',\n",
       " 'NEC Nijmegen',\n",
       " 'Vitesse Arnhem',\n",
       " 'Ajax Amsterdam',\n",
       " 'De Graafschap Doetinchem',\n",
       " 'SBV Excelsior Rotterdam',\n",
       " 'Atalanta BC',\n",
       " 'AC Siena',\n",
       " 'Novara Calcio ',\n",
       " 'FCO Dijon',\n",
       " 'Évian Thonon Gaillard',\n",
       " 'Gil Vicente',\n",
       " 'CD Feirense',\n",
       " 'Augsburg',\n",
       " 'Real Betis Balompié',\n",
       " 'Granada',\n",
       " 'Delfino Pescara ',\n",
       " 'SC Bastia',\n",
       " 'ES Troyes AC',\n",
       " 'Stade Reims',\n",
       " 'GD Estoril',\n",
       " 'Moreirense',\n",
       " 'Real Valladolid',\n",
       " 'Celta de Vigo',\n",
       " 'AS Livorno',\n",
       " 'US Sassuolo',\n",
       " 'EA Guingamp',\n",
       " 'Nantes',\n",
       " 'Belenenses SAD',\n",
       " 'Arouca',\n",
       " 'Elche',\n",
       " 'SC Cambuur-Leeuwarden',\n",
       " 'Go Ahead Eagles Deventer',\n",
       " 'Inter Milan',\n",
       " 'Metz',\n",
       " 'Penafiel',\n",
       " 'Boavista Porto',\n",
       " 'SC Paderborn ',\n",
       " 'Córdoba',\n",
       " 'Dordrecht',\n",
       " 'ABournemouth',\n",
       " 'Carpi ',\n",
       " 'Frosinone Calcio',\n",
       " 'SCO Angers',\n",
       " 'GAjaccio',\n",
       " 'União Madeira',\n",
       " 'Ingolstadt ',\n",
       " 'SV Darmstadt ',\n",
       " 'GD Chaves',\n",
       " 'Benevento Calcio',\n",
       " 'SPAL ',\n",
       " 'SC Amiens',\n",
       " 'Desportivo Aves',\n",
       " 'Girona',\n",
       " 'Parma Calcio ',\n",
       " 'CD Santa Clara',\n",
       " 'Emmen',\n",
       " '.Union Berlin']"
      ]
     },
     "execution_count": 318,
     "metadata": {},
     "output_type": "execute_result"
    }
   ],
   "source": [
    "# the following clubs don't have the same name as appears in FIFA data, thus they will be missing while merging\n",
    "# two datasets\n",
    "missing_club"
   ]
  },
  {
   "cell_type": "code",
   "execution_count": 319,
   "metadata": {
    "ExecuteTime": {
     "end_time": "2020-01-10T15:05:46.590100Z",
     "start_time": "2020-01-10T15:05:46.196298Z"
    },
    "hidden": true
   },
   "outputs": [
    {
     "data": {
      "text/plain": [
       "('Bayer 04 Leverkusen', 95)"
      ]
     },
     "execution_count": 319,
     "metadata": {},
     "output_type": "execute_result"
    }
   ],
   "source": [
    "#fuzzywuzzy is a package which allows to do fuzzy match . It is useful to match club names in different schema\n",
    "from fuzzywuzzy import process\n",
    "choices=FIFA_club_name\n",
    "process.extractOne('Bayer  Leverkusen', choices)"
   ]
  },
  {
   "cell_type": "code",
   "execution_count": 320,
   "metadata": {
    "ExecuteTime": {
     "end_time": "2020-01-10T15:05:46.594902Z",
     "start_time": "2020-01-10T15:05:46.591953Z"
    },
    "hidden": true
   },
   "outputs": [],
   "source": [
    "def rename(club,choices):\n",
    "    if club in choices:\n",
    "        return club \n",
    "    else:\n",
    "        return process.extractOne(club, choices)[0]"
   ]
  },
  {
   "cell_type": "code",
   "execution_count": 321,
   "metadata": {
    "ExecuteTime": {
     "end_time": "2020-01-10T15:06:08.663229Z",
     "start_time": "2020-01-10T15:05:46.887342Z"
    },
    "hidden": true
   },
   "outputs": [],
   "source": [
    "#len(new_name)=282  ,  29.5 seconds\n",
    "new_name=[rename(club,choices) if not (club in FIFA_club_name) else club for club in list(transfer_span_reduced['club_name'].unique())  ]"
   ]
  },
  {
   "cell_type": "code",
   "execution_count": 322,
   "metadata": {
    "ExecuteTime": {
     "end_time": "2020-01-10T15:06:08.668587Z",
     "start_time": "2020-01-10T15:06:08.664895Z"
    },
    "hidden": true
   },
   "outputs": [
    {
     "data": {
      "text/plain": [
       "(197, 224)"
      ]
     },
     "execution_count": 322,
     "metadata": {},
     "output_type": "execute_result"
    }
   ],
   "source": [
    "len(set(new_name)),len(new_name)  #there is duplicates in new_name"
   ]
  },
  {
   "cell_type": "code",
   "execution_count": 323,
   "metadata": {
    "ExecuteTime": {
     "end_time": "2020-01-10T15:06:08.685221Z",
     "start_time": "2020-01-10T15:06:08.670682Z"
    },
    "hidden": true
   },
   "outputs": [],
   "source": [
    "# for fifa data, we only select clubs appeared in the network of 7 major clubs , we get 197 of them \n",
    "fifa_df_reduced=fifa_df[fifa_df['club'].isin(new_name)]"
   ]
  },
  {
   "cell_type": "code",
   "execution_count": 324,
   "metadata": {
    "ExecuteTime": {
     "end_time": "2020-01-10T15:06:08.742059Z",
     "start_time": "2020-01-10T15:06:08.687915Z"
    },
    "hidden": true
   },
   "outputs": [
    {
     "data": {
      "text/html": [
       "<div>\n",
       "<style scoped>\n",
       "    .dataframe tbody tr th:only-of-type {\n",
       "        vertical-align: middle;\n",
       "    }\n",
       "\n",
       "    .dataframe tbody tr th {\n",
       "        vertical-align: top;\n",
       "    }\n",
       "\n",
       "    .dataframe thead th {\n",
       "        text-align: right;\n",
       "    }\n",
       "</style>\n",
       "<table border=\"1\" class=\"dataframe\">\n",
       "  <thead>\n",
       "    <tr style=\"text-align: right;\">\n",
       "      <th></th>\n",
       "      <th>club</th>\n",
       "      <th>score_list</th>\n",
       "      <th>overall</th>\n",
       "      <th>value_eur</th>\n",
       "    </tr>\n",
       "  </thead>\n",
       "  <tbody>\n",
       "    <tr>\n",
       "      <td>0</td>\n",
       "      <td>1. FC Kaiserslautern</td>\n",
       "      <td>[69, 68, 68, 67, 67, 66, 66, 66, 66, 65, 65, 6...</td>\n",
       "      <td>63.750000</td>\n",
       "      <td>6.039286e+05</td>\n",
       "    </tr>\n",
       "    <tr>\n",
       "      <td>1</td>\n",
       "      <td>1. FC Köln</td>\n",
       "      <td>[81, 79, 79, 78, 77, 76, 76, 76, 75, 75, 75, 7...</td>\n",
       "      <td>71.612903</td>\n",
       "      <td>5.360000e+06</td>\n",
       "    </tr>\n",
       "    <tr>\n",
       "      <td>2</td>\n",
       "      <td>1. FC Union Berlin</td>\n",
       "      <td>[77, 75, 74, 73, 73, 73, 73, 73, 72, 72, 72, 7...</td>\n",
       "      <td>68.787879</td>\n",
       "      <td>2.206970e+06</td>\n",
       "    </tr>\n",
       "    <tr>\n",
       "      <td>3</td>\n",
       "      <td>1. FSV Mainz 05</td>\n",
       "      <td>[78, 78, 78, 77, 75, 75, 75, 75, 75, 75, 74, 7...</td>\n",
       "      <td>69.969697</td>\n",
       "      <td>4.636364e+06</td>\n",
       "    </tr>\n",
       "    <tr>\n",
       "      <td>4</td>\n",
       "      <td>AC Ajaccio</td>\n",
       "      <td>[70, 69, 68, 68, 68, 68, 66, 66, 65, 64, 63, 6...</td>\n",
       "      <td>62.458333</td>\n",
       "      <td>4.556250e+05</td>\n",
       "    </tr>\n",
       "    <tr>\n",
       "      <td>...</td>\n",
       "      <td>...</td>\n",
       "      <td>...</td>\n",
       "      <td>...</td>\n",
       "      <td>...</td>\n",
       "    </tr>\n",
       "    <tr>\n",
       "      <td>192</td>\n",
       "      <td>West Ham United</td>\n",
       "      <td>[84, 83, 82, 81, 80, 79, 79, 79, 78, 78, 78, 7...</td>\n",
       "      <td>72.575758</td>\n",
       "      <td>8.412576e+06</td>\n",
       "    </tr>\n",
       "    <tr>\n",
       "      <td>193</td>\n",
       "      <td>Wigan Athletic</td>\n",
       "      <td>[71, 71, 70, 70, 70, 70, 70, 69, 69, 69, 69, 6...</td>\n",
       "      <td>66.166667</td>\n",
       "      <td>9.980000e+05</td>\n",
       "    </tr>\n",
       "    <tr>\n",
       "      <td>194</td>\n",
       "      <td>Willem II</td>\n",
       "      <td>[71, 71, 70, 69, 69, 68, 68, 67, 67, 66, 66, 6...</td>\n",
       "      <td>64.681818</td>\n",
       "      <td>9.177273e+05</td>\n",
       "    </tr>\n",
       "    <tr>\n",
       "      <td>195</td>\n",
       "      <td>Wolfsberger AC</td>\n",
       "      <td>[71, 69, 69, 68, 66, 66, 66, 66, 66, 65, 65, 6...</td>\n",
       "      <td>62.961538</td>\n",
       "      <td>5.176923e+05</td>\n",
       "    </tr>\n",
       "    <tr>\n",
       "      <td>196</td>\n",
       "      <td>Wolverhampton Wanderers</td>\n",
       "      <td>[84, 83, 82, 80, 80, 79, 79, 78, 78, 77, 77, 7...</td>\n",
       "      <td>70.454545</td>\n",
       "      <td>7.016667e+06</td>\n",
       "    </tr>\n",
       "  </tbody>\n",
       "</table>\n",
       "<p>197 rows × 4 columns</p>\n",
       "</div>"
      ],
      "text/plain": [
       "                        club  \\\n",
       "0       1. FC Kaiserslautern   \n",
       "1                 1. FC Köln   \n",
       "2         1. FC Union Berlin   \n",
       "3            1. FSV Mainz 05   \n",
       "4                 AC Ajaccio   \n",
       "..                       ...   \n",
       "192          West Ham United   \n",
       "193           Wigan Athletic   \n",
       "194                Willem II   \n",
       "195           Wolfsberger AC   \n",
       "196  Wolverhampton Wanderers   \n",
       "\n",
       "                                            score_list    overall  \\\n",
       "0    [69, 68, 68, 67, 67, 66, 66, 66, 66, 65, 65, 6...  63.750000   \n",
       "1    [81, 79, 79, 78, 77, 76, 76, 76, 75, 75, 75, 7...  71.612903   \n",
       "2    [77, 75, 74, 73, 73, 73, 73, 73, 72, 72, 72, 7...  68.787879   \n",
       "3    [78, 78, 78, 77, 75, 75, 75, 75, 75, 75, 74, 7...  69.969697   \n",
       "4    [70, 69, 68, 68, 68, 68, 66, 66, 65, 64, 63, 6...  62.458333   \n",
       "..                                                 ...        ...   \n",
       "192  [84, 83, 82, 81, 80, 79, 79, 79, 78, 78, 78, 7...  72.575758   \n",
       "193  [71, 71, 70, 70, 70, 70, 70, 69, 69, 69, 69, 6...  66.166667   \n",
       "194  [71, 71, 70, 69, 69, 68, 68, 67, 67, 66, 66, 6...  64.681818   \n",
       "195  [71, 69, 69, 68, 66, 66, 66, 66, 66, 65, 65, 6...  62.961538   \n",
       "196  [84, 83, 82, 80, 80, 79, 79, 78, 78, 77, 77, 7...  70.454545   \n",
       "\n",
       "        value_eur  \n",
       "0    6.039286e+05  \n",
       "1    5.360000e+06  \n",
       "2    2.206970e+06  \n",
       "3    4.636364e+06  \n",
       "4    4.556250e+05  \n",
       "..            ...  \n",
       "192  8.412576e+06  \n",
       "193  9.980000e+05  \n",
       "194  9.177273e+05  \n",
       "195  5.176923e+05  \n",
       "196  7.016667e+06  \n",
       "\n",
       "[197 rows x 4 columns]"
      ]
     },
     "execution_count": 324,
     "metadata": {},
     "output_type": "execute_result"
    }
   ],
   "source": [
    "# attributes_df will be used for machine learning, each row is composed of \n",
    "#|score_list  of player score| overall|value_eur|538 score\n",
    "score_list_df=fifa_df_reduced.groupby('club')['overall'].apply(list).reset_index(name='score_list')\n",
    "attributes_df=pd.merge(score_list_df,team_attributes_df[['overall','value_eur','club']],how='left',left_on='club',right_on='club')\n",
    "attributes_df"
   ]
  },
  {
   "cell_type": "code",
   "execution_count": 325,
   "metadata": {
    "ExecuteTime": {
     "end_time": "2020-01-10T15:06:08.747551Z",
     "start_time": "2020-01-10T15:06:08.743828Z"
    },
    "hidden": true
   },
   "outputs": [],
   "source": [
    "#introduce club score data scraped from https://projects.fivethirtyeight.com/global-club-soccer-rankings/\n",
    "pkl_file = open('./temporary_pkl/club_score_df.pkl','rb')\n",
    "club_score_df = pickle.load(pkl_file)\n",
    "pkl_file.close()"
   ]
  },
  {
   "cell_type": "markdown",
   "metadata": {
    "hidden": true
   },
   "source": [
    "### Step: Merge club_score_df and attributes_df(FIFA)"
   ]
  },
  {
   "cell_type": "code",
   "execution_count": 326,
   "metadata": {
    "ExecuteTime": {
     "end_time": "2020-01-10T15:06:08.750368Z",
     "start_time": "2020-01-10T15:06:08.748700Z"
    },
    "hidden": true
   },
   "outputs": [],
   "source": [
    "# we can not direct merge the two DataFrame based on club name, because they dont have the same name schema\n",
    "# We need to first standardize the club name of club_score_df\n",
    "\n"
   ]
  },
  {
   "cell_type": "code",
   "execution_count": 327,
   "metadata": {
    "ExecuteTime": {
     "end_time": "2020-01-10T15:06:24.307542Z",
     "start_time": "2020-01-10T15:06:08.752144Z"
    },
    "hidden": true
   },
   "outputs": [],
   "source": [
    "# It takes 59.3s to run this line of code. Rename the club name of score DataFrame. PSG is speical beacuse it's\n",
    "# abbreviation, thus fuzzywuzzy can not deal with it. But the rest is fine\n",
    "club_score_df['club']=club_score_df['club'].apply(lambda x:'Paris Saint-Germain' if x=='PSG' else rename(x,choices))"
   ]
  },
  {
   "cell_type": "code",
   "execution_count": 328,
   "metadata": {
    "ExecuteTime": {
     "end_time": "2020-01-10T15:06:24.316803Z",
     "start_time": "2020-01-10T15:06:24.309763Z"
    },
    "hidden": true
   },
   "outputs": [
    {
     "data": {
      "text/html": [
       "<div>\n",
       "<style scoped>\n",
       "    .dataframe tbody tr th:only-of-type {\n",
       "        vertical-align: middle;\n",
       "    }\n",
       "\n",
       "    .dataframe tbody tr th {\n",
       "        vertical-align: top;\n",
       "    }\n",
       "\n",
       "    .dataframe thead th {\n",
       "        text-align: right;\n",
       "    }\n",
       "</style>\n",
       "<table border=\"1\" class=\"dataframe\">\n",
       "  <thead>\n",
       "    <tr style=\"text-align: right;\">\n",
       "      <th></th>\n",
       "      <th>club</th>\n",
       "      <th>score</th>\n",
       "    </tr>\n",
       "  </thead>\n",
       "  <tbody>\n",
       "    <tr>\n",
       "      <td>92</td>\n",
       "      <td>PSV</td>\n",
       "      <td>63.5</td>\n",
       "    </tr>\n",
       "  </tbody>\n",
       "</table>\n",
       "</div>"
      ],
      "text/plain": [
       "   club  score\n",
       "92  PSV   63.5"
      ]
     },
     "execution_count": 328,
     "metadata": {},
     "output_type": "execute_result"
    }
   ],
   "source": [
    "# A default of using Fuzzywuzzy it's it may attribute one club name to several club names that appears similar\n",
    "# In this case, a simple but aggressive solution is to drop all duplicates row and only keep the first . This is not that bad because:\n",
    "# 1.The chance to have duplicates is low 2.  Duplicates only appears for the clubs in very low ranking(out of 120)\n",
    "# This solution will let us lose around 15 small clubs\n",
    "club_score_df[club_score_df['club']=='PSV']"
   ]
  },
  {
   "cell_type": "code",
   "execution_count": 329,
   "metadata": {
    "ExecuteTime": {
     "end_time": "2020-01-10T15:06:24.328240Z",
     "start_time": "2020-01-10T15:06:24.319043Z"
    },
    "hidden": true
   },
   "outputs": [
    {
     "data": {
      "text/html": [
       "<div>\n",
       "<style scoped>\n",
       "    .dataframe tbody tr th:only-of-type {\n",
       "        vertical-align: middle;\n",
       "    }\n",
       "\n",
       "    .dataframe tbody tr th {\n",
       "        vertical-align: top;\n",
       "    }\n",
       "\n",
       "    .dataframe thead th {\n",
       "        text-align: right;\n",
       "    }\n",
       "</style>\n",
       "<table border=\"1\" class=\"dataframe\">\n",
       "  <thead>\n",
       "    <tr style=\"text-align: right;\">\n",
       "      <th></th>\n",
       "      <th>club</th>\n",
       "      <th>score</th>\n",
       "    </tr>\n",
       "  </thead>\n",
       "  <tbody>\n",
       "    <tr>\n",
       "      <td>0</td>\n",
       "      <td>Liverpool</td>\n",
       "      <td>94.1</td>\n",
       "    </tr>\n",
       "    <tr>\n",
       "      <td>1</td>\n",
       "      <td>Manchester City</td>\n",
       "      <td>93.9</td>\n",
       "    </tr>\n",
       "    <tr>\n",
       "      <td>2</td>\n",
       "      <td>FC Bayern München</td>\n",
       "      <td>93.4</td>\n",
       "    </tr>\n",
       "    <tr>\n",
       "      <td>3</td>\n",
       "      <td>Paris Saint-Germain</td>\n",
       "      <td>90.5</td>\n",
       "    </tr>\n",
       "    <tr>\n",
       "      <td>4</td>\n",
       "      <td>Real Madrid</td>\n",
       "      <td>90.1</td>\n",
       "    </tr>\n",
       "    <tr>\n",
       "      <td>...</td>\n",
       "      <td>...</td>\n",
       "      <td>...</td>\n",
       "    </tr>\n",
       "    <tr>\n",
       "      <td>523</td>\n",
       "      <td>Pachuca</td>\n",
       "      <td>22.9</td>\n",
       "    </tr>\n",
       "    <tr>\n",
       "      <td>528</td>\n",
       "      <td>Blackpool</td>\n",
       "      <td>22.3</td>\n",
       "    </tr>\n",
       "    <tr>\n",
       "      <td>541</td>\n",
       "      <td>Academica Clinceni</td>\n",
       "      <td>21.0</td>\n",
       "    </tr>\n",
       "    <tr>\n",
       "      <td>544</td>\n",
       "      <td>Stade Rennais FC</td>\n",
       "      <td>20.7</td>\n",
       "    </tr>\n",
       "    <tr>\n",
       "      <td>560</td>\n",
       "      <td>Livorno</td>\n",
       "      <td>19.5</td>\n",
       "    </tr>\n",
       "  </tbody>\n",
       "</table>\n",
       "<p>192 rows × 2 columns</p>\n",
       "</div>"
      ],
      "text/plain": [
       "                    club  score\n",
       "0              Liverpool   94.1\n",
       "1        Manchester City   93.9\n",
       "2      FC Bayern München   93.4\n",
       "3    Paris Saint-Germain   90.5\n",
       "4            Real Madrid   90.1\n",
       "..                   ...    ...\n",
       "523              Pachuca   22.9\n",
       "528            Blackpool   22.3\n",
       "541   Academica Clinceni   21.0\n",
       "544     Stade Rennais FC   20.7\n",
       "560              Livorno   19.5\n",
       "\n",
       "[192 rows x 2 columns]"
      ]
     },
     "execution_count": 329,
     "metadata": {},
     "output_type": "execute_result"
    }
   ],
   "source": [
    "club_score_df"
   ]
  },
  {
   "cell_type": "code",
   "execution_count": 330,
   "metadata": {
    "ExecuteTime": {
     "end_time": "2020-01-10T15:06:24.340642Z",
     "start_time": "2020-01-10T15:06:24.330950Z"
    },
    "hidden": true
   },
   "outputs": [
    {
     "data": {
      "text/html": [
       "<div>\n",
       "<style scoped>\n",
       "    .dataframe tbody tr th:only-of-type {\n",
       "        vertical-align: middle;\n",
       "    }\n",
       "\n",
       "    .dataframe tbody tr th {\n",
       "        vertical-align: top;\n",
       "    }\n",
       "\n",
       "    .dataframe thead th {\n",
       "        text-align: right;\n",
       "    }\n",
       "</style>\n",
       "<table border=\"1\" class=\"dataframe\">\n",
       "  <thead>\n",
       "    <tr style=\"text-align: right;\">\n",
       "      <th></th>\n",
       "      <th>club</th>\n",
       "      <th>score</th>\n",
       "    </tr>\n",
       "  </thead>\n",
       "  <tbody>\n",
       "    <tr>\n",
       "      <td>60</td>\n",
       "      <td>Athletic Club de Bilbao</td>\n",
       "      <td>67.5</td>\n",
       "    </tr>\n",
       "    <tr>\n",
       "      <td>247</td>\n",
       "      <td>FC Porto</td>\n",
       "      <td>45.1</td>\n",
       "    </tr>\n",
       "    <tr>\n",
       "      <td>252</td>\n",
       "      <td>RC Strasbourg Alsace</td>\n",
       "      <td>44.7</td>\n",
       "    </tr>\n",
       "    <tr>\n",
       "      <td>342</td>\n",
       "      <td>Deportivo Alavés</td>\n",
       "      <td>37.8</td>\n",
       "    </tr>\n",
       "    <tr>\n",
       "      <td>498</td>\n",
       "      <td>Roma</td>\n",
       "      <td>24.9</td>\n",
       "    </tr>\n",
       "    <tr>\n",
       "      <td>502</td>\n",
       "      <td>Athletic Club de Bilbao</td>\n",
       "      <td>24.5</td>\n",
       "    </tr>\n",
       "    <tr>\n",
       "      <td>511</td>\n",
       "      <td>SPAL</td>\n",
       "      <td>23.8</td>\n",
       "    </tr>\n",
       "  </tbody>\n",
       "</table>\n",
       "</div>"
      ],
      "text/plain": [
       "                        club  score\n",
       "60   Athletic Club de Bilbao   67.5\n",
       "247                 FC Porto   45.1\n",
       "252     RC Strasbourg Alsace   44.7\n",
       "342         Deportivo Alavés   37.8\n",
       "498                     Roma   24.9\n",
       "502  Athletic Club de Bilbao   24.5\n",
       "511                     SPAL   23.8"
      ]
     },
     "execution_count": 330,
     "metadata": {},
     "output_type": "execute_result"
    }
   ],
   "source": [
    "# dupllicated club name appears\n",
    "club_score_df[club_score_df.duplicated('club')].head(15)"
   ]
  },
  {
   "cell_type": "code",
   "execution_count": 331,
   "metadata": {
    "ExecuteTime": {
     "end_time": "2020-01-10T15:06:24.351846Z",
     "start_time": "2020-01-10T15:06:24.342134Z"
    },
    "hidden": true
   },
   "outputs": [
    {
     "name": "stderr",
     "output_type": "stream",
     "text": [
      "/Users/Saibo/anaconda3/lib/python3.7/site-packages/pandas/core/frame.py:4223: SettingWithCopyWarning: \n",
      "A value is trying to be set on a copy of a slice from a DataFrame\n",
      "\n",
      "See the caveats in the documentation: http://pandas.pydata.org/pandas-docs/stable/user_guide/indexing.html#returning-a-view-versus-a-copy\n",
      "  return super().rename(**kwargs)\n"
     ]
    }
   ],
   "source": [
    "# drop duplciate rows and only keep the first occurence\n",
    "club_score_df=club_score_df.drop_duplicates('club',keep='first')\n",
    "club_score_df.rename(columns={'score':'538_score'},inplace=True)"
   ]
  },
  {
   "cell_type": "code",
   "execution_count": 332,
   "metadata": {
    "ExecuteTime": {
     "end_time": "2020-01-10T15:06:24.365891Z",
     "start_time": "2020-01-10T15:06:24.353090Z"
    },
    "hidden": true
   },
   "outputs": [
    {
     "data": {
      "text/html": [
       "<div>\n",
       "<style scoped>\n",
       "    .dataframe tbody tr th:only-of-type {\n",
       "        vertical-align: middle;\n",
       "    }\n",
       "\n",
       "    .dataframe tbody tr th {\n",
       "        vertical-align: top;\n",
       "    }\n",
       "\n",
       "    .dataframe thead th {\n",
       "        text-align: right;\n",
       "    }\n",
       "</style>\n",
       "<table border=\"1\" class=\"dataframe\">\n",
       "  <thead>\n",
       "    <tr style=\"text-align: right;\">\n",
       "      <th></th>\n",
       "      <th>club</th>\n",
       "      <th>score_list</th>\n",
       "      <th>overall</th>\n",
       "      <th>value_eur</th>\n",
       "    </tr>\n",
       "  </thead>\n",
       "  <tbody>\n",
       "    <tr>\n",
       "      <td>0</td>\n",
       "      <td>1. FC Kaiserslautern</td>\n",
       "      <td>[69, 68, 68, 67, 67, 66, 66, 66, 66, 65, 65, 6...</td>\n",
       "      <td>63.750000</td>\n",
       "      <td>6.039286e+05</td>\n",
       "    </tr>\n",
       "    <tr>\n",
       "      <td>1</td>\n",
       "      <td>1. FC Köln</td>\n",
       "      <td>[81, 79, 79, 78, 77, 76, 76, 76, 75, 75, 75, 7...</td>\n",
       "      <td>71.612903</td>\n",
       "      <td>5.360000e+06</td>\n",
       "    </tr>\n",
       "    <tr>\n",
       "      <td>2</td>\n",
       "      <td>1. FC Union Berlin</td>\n",
       "      <td>[77, 75, 74, 73, 73, 73, 73, 73, 72, 72, 72, 7...</td>\n",
       "      <td>68.787879</td>\n",
       "      <td>2.206970e+06</td>\n",
       "    </tr>\n",
       "    <tr>\n",
       "      <td>3</td>\n",
       "      <td>1. FSV Mainz 05</td>\n",
       "      <td>[78, 78, 78, 77, 75, 75, 75, 75, 75, 75, 74, 7...</td>\n",
       "      <td>69.969697</td>\n",
       "      <td>4.636364e+06</td>\n",
       "    </tr>\n",
       "    <tr>\n",
       "      <td>4</td>\n",
       "      <td>AC Ajaccio</td>\n",
       "      <td>[70, 69, 68, 68, 68, 68, 66, 66, 65, 64, 63, 6...</td>\n",
       "      <td>62.458333</td>\n",
       "      <td>4.556250e+05</td>\n",
       "    </tr>\n",
       "    <tr>\n",
       "      <td>...</td>\n",
       "      <td>...</td>\n",
       "      <td>...</td>\n",
       "      <td>...</td>\n",
       "      <td>...</td>\n",
       "    </tr>\n",
       "    <tr>\n",
       "      <td>192</td>\n",
       "      <td>West Ham United</td>\n",
       "      <td>[84, 83, 82, 81, 80, 79, 79, 79, 78, 78, 78, 7...</td>\n",
       "      <td>72.575758</td>\n",
       "      <td>8.412576e+06</td>\n",
       "    </tr>\n",
       "    <tr>\n",
       "      <td>193</td>\n",
       "      <td>Wigan Athletic</td>\n",
       "      <td>[71, 71, 70, 70, 70, 70, 70, 69, 69, 69, 69, 6...</td>\n",
       "      <td>66.166667</td>\n",
       "      <td>9.980000e+05</td>\n",
       "    </tr>\n",
       "    <tr>\n",
       "      <td>194</td>\n",
       "      <td>Willem II</td>\n",
       "      <td>[71, 71, 70, 69, 69, 68, 68, 67, 67, 66, 66, 6...</td>\n",
       "      <td>64.681818</td>\n",
       "      <td>9.177273e+05</td>\n",
       "    </tr>\n",
       "    <tr>\n",
       "      <td>195</td>\n",
       "      <td>Wolfsberger AC</td>\n",
       "      <td>[71, 69, 69, 68, 66, 66, 66, 66, 66, 65, 65, 6...</td>\n",
       "      <td>62.961538</td>\n",
       "      <td>5.176923e+05</td>\n",
       "    </tr>\n",
       "    <tr>\n",
       "      <td>196</td>\n",
       "      <td>Wolverhampton Wanderers</td>\n",
       "      <td>[84, 83, 82, 80, 80, 79, 79, 78, 78, 77, 77, 7...</td>\n",
       "      <td>70.454545</td>\n",
       "      <td>7.016667e+06</td>\n",
       "    </tr>\n",
       "  </tbody>\n",
       "</table>\n",
       "<p>197 rows × 4 columns</p>\n",
       "</div>"
      ],
      "text/plain": [
       "                        club  \\\n",
       "0       1. FC Kaiserslautern   \n",
       "1                 1. FC Köln   \n",
       "2         1. FC Union Berlin   \n",
       "3            1. FSV Mainz 05   \n",
       "4                 AC Ajaccio   \n",
       "..                       ...   \n",
       "192          West Ham United   \n",
       "193           Wigan Athletic   \n",
       "194                Willem II   \n",
       "195           Wolfsberger AC   \n",
       "196  Wolverhampton Wanderers   \n",
       "\n",
       "                                            score_list    overall  \\\n",
       "0    [69, 68, 68, 67, 67, 66, 66, 66, 66, 65, 65, 6...  63.750000   \n",
       "1    [81, 79, 79, 78, 77, 76, 76, 76, 75, 75, 75, 7...  71.612903   \n",
       "2    [77, 75, 74, 73, 73, 73, 73, 73, 72, 72, 72, 7...  68.787879   \n",
       "3    [78, 78, 78, 77, 75, 75, 75, 75, 75, 75, 74, 7...  69.969697   \n",
       "4    [70, 69, 68, 68, 68, 68, 66, 66, 65, 64, 63, 6...  62.458333   \n",
       "..                                                 ...        ...   \n",
       "192  [84, 83, 82, 81, 80, 79, 79, 79, 78, 78, 78, 7...  72.575758   \n",
       "193  [71, 71, 70, 70, 70, 70, 70, 69, 69, 69, 69, 6...  66.166667   \n",
       "194  [71, 71, 70, 69, 69, 68, 68, 67, 67, 66, 66, 6...  64.681818   \n",
       "195  [71, 69, 69, 68, 66, 66, 66, 66, 66, 65, 65, 6...  62.961538   \n",
       "196  [84, 83, 82, 80, 80, 79, 79, 78, 78, 77, 77, 7...  70.454545   \n",
       "\n",
       "        value_eur  \n",
       "0    6.039286e+05  \n",
       "1    5.360000e+06  \n",
       "2    2.206970e+06  \n",
       "3    4.636364e+06  \n",
       "4    4.556250e+05  \n",
       "..            ...  \n",
       "192  8.412576e+06  \n",
       "193  9.980000e+05  \n",
       "194  9.177273e+05  \n",
       "195  5.176923e+05  \n",
       "196  7.016667e+06  \n",
       "\n",
       "[197 rows x 4 columns]"
      ]
     },
     "execution_count": 332,
     "metadata": {},
     "output_type": "execute_result"
    }
   ],
   "source": [
    "attributes_df"
   ]
  },
  {
   "cell_type": "code",
   "execution_count": 333,
   "metadata": {
    "ExecuteTime": {
     "end_time": "2020-01-10T15:06:24.374587Z",
     "start_time": "2020-01-10T15:06:24.367349Z"
    },
    "hidden": true
   },
   "outputs": [],
   "source": [
    "# update attribute_df(add 538score)\n",
    "attributes_df=pd.merge(club_score_df,attributes_df,left_on='club',right_on='club',how='right')"
   ]
  },
  {
   "cell_type": "code",
   "execution_count": 334,
   "metadata": {
    "ExecuteTime": {
     "end_time": "2020-01-10T15:06:24.395368Z",
     "start_time": "2020-01-10T15:06:24.375748Z"
    },
    "hidden": true
   },
   "outputs": [
    {
     "data": {
      "text/html": [
       "<div>\n",
       "<style scoped>\n",
       "    .dataframe tbody tr th:only-of-type {\n",
       "        vertical-align: middle;\n",
       "    }\n",
       "\n",
       "    .dataframe tbody tr th {\n",
       "        vertical-align: top;\n",
       "    }\n",
       "\n",
       "    .dataframe thead th {\n",
       "        text-align: right;\n",
       "    }\n",
       "</style>\n",
       "<table border=\"1\" class=\"dataframe\">\n",
       "  <thead>\n",
       "    <tr style=\"text-align: right;\">\n",
       "      <th></th>\n",
       "      <th>club</th>\n",
       "      <th>538_score</th>\n",
       "      <th>score_list</th>\n",
       "      <th>overall</th>\n",
       "      <th>value_eur</th>\n",
       "    </tr>\n",
       "  </thead>\n",
       "  <tbody>\n",
       "    <tr>\n",
       "      <td>0</td>\n",
       "      <td>Liverpool</td>\n",
       "      <td>94.1</td>\n",
       "      <td>[90, 90, 89, 88, 86, 85, 85, 84, 83, 83, 82, 8...</td>\n",
       "      <td>75.848485</td>\n",
       "      <td>2.100803e+07</td>\n",
       "    </tr>\n",
       "    <tr>\n",
       "      <td>1</td>\n",
       "      <td>Manchester City</td>\n",
       "      <td>93.9</td>\n",
       "      <td>[91, 89, 88, 88, 88, 87, 87, 87, 86, 85, 84, 8...</td>\n",
       "      <td>77.000000</td>\n",
       "      <td>2.562864e+07</td>\n",
       "    </tr>\n",
       "    <tr>\n",
       "      <td>2</td>\n",
       "      <td>FC Bayern München</td>\n",
       "      <td>93.4</td>\n",
       "      <td>[89, 88, 87, 86, 86, 86, 85, 85, 84, 84, 84, 8...</td>\n",
       "      <td>81.304348</td>\n",
       "      <td>2.994674e+07</td>\n",
       "    </tr>\n",
       "    <tr>\n",
       "      <td>3</td>\n",
       "      <td>Paris Saint-Germain</td>\n",
       "      <td>90.5</td>\n",
       "      <td>[92, 89, 88, 87, 86, 86, 86, 83, 83, 83, 82, 8...</td>\n",
       "      <td>75.909091</td>\n",
       "      <td>2.083485e+07</td>\n",
       "    </tr>\n",
       "    <tr>\n",
       "      <td>4</td>\n",
       "      <td>Real Madrid</td>\n",
       "      <td>90.1</td>\n",
       "      <td>[91, 90, 89, 88, 88, 87, 87, 87, 86, 85, 85, 8...</td>\n",
       "      <td>80.121212</td>\n",
       "      <td>2.720758e+07</td>\n",
       "    </tr>\n",
       "    <tr>\n",
       "      <td>...</td>\n",
       "      <td>...</td>\n",
       "      <td>...</td>\n",
       "      <td>...</td>\n",
       "      <td>...</td>\n",
       "      <td>...</td>\n",
       "    </tr>\n",
       "    <tr>\n",
       "      <td>192</td>\n",
       "      <td>Hellas Verona</td>\n",
       "      <td>NaN</td>\n",
       "      <td>[77, 76, 75, 75, 75, 74, 74, 74, 73, 73, 72, 7...</td>\n",
       "      <td>69.787879</td>\n",
       "      <td>2.782424e+06</td>\n",
       "    </tr>\n",
       "    <tr>\n",
       "      <td>193</td>\n",
       "      <td>RSC Anderlecht</td>\n",
       "      <td>NaN</td>\n",
       "      <td>[83, 78, 77, 76, 75, 75, 75, 75, 74, 73, 73, 7...</td>\n",
       "      <td>71.642857</td>\n",
       "      <td>4.516071e+06</td>\n",
       "    </tr>\n",
       "    <tr>\n",
       "      <td>194</td>\n",
       "      <td>Racing Club</td>\n",
       "      <td>NaN</td>\n",
       "      <td>[81, 80, 79, 78, 78, 78, 78, 77, 77, 76, 75, 7...</td>\n",
       "      <td>72.107143</td>\n",
       "      <td>4.733036e+06</td>\n",
       "    </tr>\n",
       "    <tr>\n",
       "      <td>195</td>\n",
       "      <td>Standard de Liège</td>\n",
       "      <td>NaN</td>\n",
       "      <td>[77, 75, 74, 74, 73, 73, 73, 73, 73, 72, 72, 7...</td>\n",
       "      <td>71.250000</td>\n",
       "      <td>3.408393e+06</td>\n",
       "    </tr>\n",
       "    <tr>\n",
       "      <td>196</td>\n",
       "      <td>Unión Magdalena</td>\n",
       "      <td>NaN</td>\n",
       "      <td>[74, 70, 69, 69, 68, 67, 67, 67, 66, 65, 65, 6...</td>\n",
       "      <td>61.392857</td>\n",
       "      <td>5.194643e+05</td>\n",
       "    </tr>\n",
       "  </tbody>\n",
       "</table>\n",
       "<p>197 rows × 5 columns</p>\n",
       "</div>"
      ],
      "text/plain": [
       "                    club  538_score  \\\n",
       "0              Liverpool       94.1   \n",
       "1        Manchester City       93.9   \n",
       "2      FC Bayern München       93.4   \n",
       "3    Paris Saint-Germain       90.5   \n",
       "4            Real Madrid       90.1   \n",
       "..                   ...        ...   \n",
       "192        Hellas Verona        NaN   \n",
       "193       RSC Anderlecht        NaN   \n",
       "194          Racing Club        NaN   \n",
       "195    Standard de Liège        NaN   \n",
       "196      Unión Magdalena        NaN   \n",
       "\n",
       "                                            score_list    overall  \\\n",
       "0    [90, 90, 89, 88, 86, 85, 85, 84, 83, 83, 82, 8...  75.848485   \n",
       "1    [91, 89, 88, 88, 88, 87, 87, 87, 86, 85, 84, 8...  77.000000   \n",
       "2    [89, 88, 87, 86, 86, 86, 85, 85, 84, 84, 84, 8...  81.304348   \n",
       "3    [92, 89, 88, 87, 86, 86, 86, 83, 83, 83, 82, 8...  75.909091   \n",
       "4    [91, 90, 89, 88, 88, 87, 87, 87, 86, 85, 85, 8...  80.121212   \n",
       "..                                                 ...        ...   \n",
       "192  [77, 76, 75, 75, 75, 74, 74, 74, 73, 73, 72, 7...  69.787879   \n",
       "193  [83, 78, 77, 76, 75, 75, 75, 75, 74, 73, 73, 7...  71.642857   \n",
       "194  [81, 80, 79, 78, 78, 78, 78, 77, 77, 76, 75, 7...  72.107143   \n",
       "195  [77, 75, 74, 74, 73, 73, 73, 73, 73, 72, 72, 7...  71.250000   \n",
       "196  [74, 70, 69, 69, 68, 67, 67, 67, 66, 65, 65, 6...  61.392857   \n",
       "\n",
       "        value_eur  \n",
       "0    2.100803e+07  \n",
       "1    2.562864e+07  \n",
       "2    2.994674e+07  \n",
       "3    2.083485e+07  \n",
       "4    2.720758e+07  \n",
       "..            ...  \n",
       "192  2.782424e+06  \n",
       "193  4.516071e+06  \n",
       "194  4.733036e+06  \n",
       "195  3.408393e+06  \n",
       "196  5.194643e+05  \n",
       "\n",
       "[197 rows x 5 columns]"
      ]
     },
     "execution_count": 334,
     "metadata": {},
     "output_type": "execute_result"
    }
   ],
   "source": [
    "attributes_df"
   ]
  },
  {
   "cell_type": "code",
   "execution_count": 335,
   "metadata": {
    "ExecuteTime": {
     "end_time": "2020-01-10T15:06:24.408727Z",
     "start_time": "2020-01-10T15:06:24.397014Z"
    },
    "hidden": true
   },
   "outputs": [
    {
     "data": {
      "text/html": [
       "<div>\n",
       "<style scoped>\n",
       "    .dataframe tbody tr th:only-of-type {\n",
       "        vertical-align: middle;\n",
       "    }\n",
       "\n",
       "    .dataframe tbody tr th {\n",
       "        vertical-align: top;\n",
       "    }\n",
       "\n",
       "    .dataframe thead th {\n",
       "        text-align: right;\n",
       "    }\n",
       "</style>\n",
       "<table border=\"1\" class=\"dataframe\">\n",
       "  <thead>\n",
       "    <tr style=\"text-align: right;\">\n",
       "      <th></th>\n",
       "      <th>club</th>\n",
       "      <th>538_score</th>\n",
       "      <th>score_list</th>\n",
       "      <th>overall</th>\n",
       "      <th>value_eur</th>\n",
       "    </tr>\n",
       "  </thead>\n",
       "  <tbody>\n",
       "    <tr>\n",
       "      <td>185</td>\n",
       "      <td>1. FC Kaiserslautern</td>\n",
       "      <td>NaN</td>\n",
       "      <td>[69, 68, 68, 67, 67, 66, 66, 66, 66, 65, 65, 6...</td>\n",
       "      <td>63.750000</td>\n",
       "      <td>6.039286e+05</td>\n",
       "    </tr>\n",
       "    <tr>\n",
       "      <td>186</td>\n",
       "      <td>Angers SCO</td>\n",
       "      <td>NaN</td>\n",
       "      <td>[78, 76, 75, 75, 75, 75, 74, 74, 74, 74, 73, 7...</td>\n",
       "      <td>69.258065</td>\n",
       "      <td>3.225000e+06</td>\n",
       "    </tr>\n",
       "    <tr>\n",
       "      <td>187</td>\n",
       "      <td>Bolton Wanderers</td>\n",
       "      <td>NaN</td>\n",
       "      <td>[68, 68, 67, 66, 66, 62, 59, 59, 57, 56, 55, 5...</td>\n",
       "      <td>56.086957</td>\n",
       "      <td>2.756522e+05</td>\n",
       "    </tr>\n",
       "    <tr>\n",
       "      <td>188</td>\n",
       "      <td>CF Fuenlabrada</td>\n",
       "      <td>NaN</td>\n",
       "      <td>[70, 68, 68, 67, 67, 67, 66, 66, 65, 65, 65, 6...</td>\n",
       "      <td>64.413793</td>\n",
       "      <td>5.451724e+05</td>\n",
       "    </tr>\n",
       "    <tr>\n",
       "      <td>189</td>\n",
       "      <td>Central Córdoba</td>\n",
       "      <td>NaN</td>\n",
       "      <td>[72, 71, 70, 67, 67, 66, 66, 65, 65, 64, 63, 6...</td>\n",
       "      <td>63.428571</td>\n",
       "      <td>5.983929e+05</td>\n",
       "    </tr>\n",
       "  </tbody>\n",
       "</table>\n",
       "</div>"
      ],
      "text/plain": [
       "                     club  538_score  \\\n",
       "185  1. FC Kaiserslautern        NaN   \n",
       "186            Angers SCO        NaN   \n",
       "187      Bolton Wanderers        NaN   \n",
       "188        CF Fuenlabrada        NaN   \n",
       "189       Central Córdoba        NaN   \n",
       "\n",
       "                                            score_list    overall  \\\n",
       "185  [69, 68, 68, 67, 67, 66, 66, 66, 66, 65, 65, 6...  63.750000   \n",
       "186  [78, 76, 75, 75, 75, 75, 74, 74, 74, 74, 73, 7...  69.258065   \n",
       "187  [68, 68, 67, 66, 66, 62, 59, 59, 57, 56, 55, 5...  56.086957   \n",
       "188  [70, 68, 68, 67, 67, 67, 66, 66, 65, 65, 65, 6...  64.413793   \n",
       "189  [72, 71, 70, 67, 67, 66, 66, 65, 65, 64, 63, 6...  63.428571   \n",
       "\n",
       "        value_eur  \n",
       "185  6.039286e+05  \n",
       "186  3.225000e+06  \n",
       "187  2.756522e+05  \n",
       "188  5.451724e+05  \n",
       "189  5.983929e+05  "
      ]
     },
     "execution_count": 335,
     "metadata": {},
     "output_type": "execute_result"
    }
   ],
   "source": [
    "# There is 13 rows with NaN\n",
    "attributes_df[attributes_df['538_score'].isna()].head()"
   ]
  },
  {
   "cell_type": "code",
   "execution_count": 336,
   "metadata": {
    "ExecuteTime": {
     "end_time": "2020-01-10T15:06:24.416294Z",
     "start_time": "2020-01-10T15:06:24.410002Z"
    },
    "hidden": true
   },
   "outputs": [],
   "source": [
    "# Fill Nan by the min value of 538 score in the dataframe, because these club are ranked at very end.\n",
    "attributes_df['538_score']=attributes_df['538_score'].astype('float')\n",
    "min_sc=attributes_df['538_score'].min()\n",
    "fill_values=np.linspace(min_sc,min_sc-5,13)\n",
    "attributes_df['538_score'].fillna(value=min_sc,inplace=True)"
   ]
  },
  {
   "cell_type": "code",
   "execution_count": 337,
   "metadata": {
    "ExecuteTime": {
     "end_time": "2020-01-10T15:06:24.428975Z",
     "start_time": "2020-01-10T15:06:24.417496Z"
    },
    "hidden": true
   },
   "outputs": [
    {
     "data": {
      "text/html": [
       "<div>\n",
       "<style scoped>\n",
       "    .dataframe tbody tr th:only-of-type {\n",
       "        vertical-align: middle;\n",
       "    }\n",
       "\n",
       "    .dataframe tbody tr th {\n",
       "        vertical-align: top;\n",
       "    }\n",
       "\n",
       "    .dataframe thead th {\n",
       "        text-align: right;\n",
       "    }\n",
       "</style>\n",
       "<table border=\"1\" class=\"dataframe\">\n",
       "  <thead>\n",
       "    <tr style=\"text-align: right;\">\n",
       "      <th></th>\n",
       "      <th>club</th>\n",
       "      <th>538_score</th>\n",
       "      <th>score_list</th>\n",
       "      <th>overall</th>\n",
       "      <th>value_eur</th>\n",
       "    </tr>\n",
       "  </thead>\n",
       "  <tbody>\n",
       "    <tr>\n",
       "      <td>0</td>\n",
       "      <td>Liverpool</td>\n",
       "      <td>94.1</td>\n",
       "      <td>[90, 90, 89, 88, 86, 85, 85, 84, 83, 83, 82, 8...</td>\n",
       "      <td>75.848485</td>\n",
       "      <td>2.100803e+07</td>\n",
       "    </tr>\n",
       "    <tr>\n",
       "      <td>1</td>\n",
       "      <td>Manchester City</td>\n",
       "      <td>93.9</td>\n",
       "      <td>[91, 89, 88, 88, 88, 87, 87, 87, 86, 85, 84, 8...</td>\n",
       "      <td>77.000000</td>\n",
       "      <td>2.562864e+07</td>\n",
       "    </tr>\n",
       "    <tr>\n",
       "      <td>2</td>\n",
       "      <td>FC Bayern München</td>\n",
       "      <td>93.4</td>\n",
       "      <td>[89, 88, 87, 86, 86, 86, 85, 85, 84, 84, 84, 8...</td>\n",
       "      <td>81.304348</td>\n",
       "      <td>2.994674e+07</td>\n",
       "    </tr>\n",
       "    <tr>\n",
       "      <td>3</td>\n",
       "      <td>Paris Saint-Germain</td>\n",
       "      <td>90.5</td>\n",
       "      <td>[92, 89, 88, 87, 86, 86, 86, 83, 83, 83, 82, 8...</td>\n",
       "      <td>75.909091</td>\n",
       "      <td>2.083485e+07</td>\n",
       "    </tr>\n",
       "    <tr>\n",
       "      <td>4</td>\n",
       "      <td>Real Madrid</td>\n",
       "      <td>90.1</td>\n",
       "      <td>[91, 90, 89, 88, 88, 87, 87, 87, 86, 85, 85, 8...</td>\n",
       "      <td>80.121212</td>\n",
       "      <td>2.720758e+07</td>\n",
       "    </tr>\n",
       "    <tr>\n",
       "      <td>5</td>\n",
       "      <td>FC Barcelona</td>\n",
       "      <td>89.0</td>\n",
       "      <td>[94, 90, 89, 89, 89, 88, 87, 86, 86, 85, 85, 8...</td>\n",
       "      <td>78.363636</td>\n",
       "      <td>2.634242e+07</td>\n",
       "    </tr>\n",
       "    <tr>\n",
       "      <td>6</td>\n",
       "      <td>RB Leipzig</td>\n",
       "      <td>86.3</td>\n",
       "      <td>[85, 83, 83, 82, 81, 81, 81, 80, 79, 79, 78, 7...</td>\n",
       "      <td>73.878788</td>\n",
       "      <td>1.159879e+07</td>\n",
       "    </tr>\n",
       "    <tr>\n",
       "      <td>7</td>\n",
       "      <td>Atlético Madrid</td>\n",
       "      <td>86.1</td>\n",
       "      <td>[91, 85, 85, 85, 84, 83, 83, 83, 82, 82, 82, 8...</td>\n",
       "      <td>76.181818</td>\n",
       "      <td>1.789015e+07</td>\n",
       "    </tr>\n",
       "    <tr>\n",
       "      <td>8</td>\n",
       "      <td>Chelsea</td>\n",
       "      <td>85.0</td>\n",
       "      <td>[89, 84, 84, 83, 82, 82, 82, 82, 82, 81, 80, 8...</td>\n",
       "      <td>77.060606</td>\n",
       "      <td>1.530212e+07</td>\n",
       "    </tr>\n",
       "    <tr>\n",
       "      <td>9</td>\n",
       "      <td>Juventus</td>\n",
       "      <td>85.0</td>\n",
       "      <td>[93, 89, 88, 86, 86, 86, 85, 85, 85, 85, 84, 8...</td>\n",
       "      <td>80.060606</td>\n",
       "      <td>2.228712e+07</td>\n",
       "    </tr>\n",
       "  </tbody>\n",
       "</table>\n",
       "</div>"
      ],
      "text/plain": [
       "                  club  538_score  \\\n",
       "0            Liverpool       94.1   \n",
       "1      Manchester City       93.9   \n",
       "2    FC Bayern München       93.4   \n",
       "3  Paris Saint-Germain       90.5   \n",
       "4          Real Madrid       90.1   \n",
       "5         FC Barcelona       89.0   \n",
       "6           RB Leipzig       86.3   \n",
       "7      Atlético Madrid       86.1   \n",
       "8              Chelsea       85.0   \n",
       "9             Juventus       85.0   \n",
       "\n",
       "                                          score_list    overall     value_eur  \n",
       "0  [90, 90, 89, 88, 86, 85, 85, 84, 83, 83, 82, 8...  75.848485  2.100803e+07  \n",
       "1  [91, 89, 88, 88, 88, 87, 87, 87, 86, 85, 84, 8...  77.000000  2.562864e+07  \n",
       "2  [89, 88, 87, 86, 86, 86, 85, 85, 84, 84, 84, 8...  81.304348  2.994674e+07  \n",
       "3  [92, 89, 88, 87, 86, 86, 86, 83, 83, 83, 82, 8...  75.909091  2.083485e+07  \n",
       "4  [91, 90, 89, 88, 88, 87, 87, 87, 86, 85, 85, 8...  80.121212  2.720758e+07  \n",
       "5  [94, 90, 89, 89, 89, 88, 87, 86, 86, 85, 85, 8...  78.363636  2.634242e+07  \n",
       "6  [85, 83, 83, 82, 81, 81, 81, 80, 79, 79, 78, 7...  73.878788  1.159879e+07  \n",
       "7  [91, 85, 85, 85, 84, 83, 83, 83, 82, 82, 82, 8...  76.181818  1.789015e+07  \n",
       "8  [89, 84, 84, 83, 82, 82, 82, 82, 82, 81, 80, 8...  77.060606  1.530212e+07  \n",
       "9  [93, 89, 88, 86, 86, 86, 85, 85, 85, 85, 84, 8...  80.060606  2.228712e+07  "
      ]
     },
     "execution_count": 337,
     "metadata": {},
     "output_type": "execute_result"
    }
   ],
   "source": [
    "# Now the dataframe is ready for doing machine learning to predict the 538_score\n",
    "attributes_df.head(10)"
   ]
  },
  {
   "cell_type": "code",
   "execution_count": 338,
   "metadata": {
    "ExecuteTime": {
     "end_time": "2020-01-10T15:06:24.434746Z",
     "start_time": "2020-01-10T15:06:24.430399Z"
    },
    "hidden": true
   },
   "outputs": [],
   "source": [
    "\n",
    "pkl_file = open('./temporary_pkl/fifa_data.pkl','wb')\n",
    "pickle.dump(attributes_df,pkl_file)\n",
    "pkl_file.close()"
   ]
  },
  {
   "cell_type": "markdown",
   "metadata": {},
   "source": [
    "## Machine learning part"
   ]
  },
  {
   "cell_type": "code",
   "execution_count": 352,
   "metadata": {
    "ExecuteTime": {
     "end_time": "2020-01-10T15:11:37.059500Z",
     "start_time": "2020-01-10T15:11:37.054253Z"
    }
   },
   "outputs": [],
   "source": [
    "pkl_file = open('./temporary_pkl/fifa_data.pkl','rb')\n",
    "attributes_df = pickle.load(pkl_file)\n",
    "pkl_file.close()"
   ]
  },
  {
   "cell_type": "code",
   "execution_count": 353,
   "metadata": {
    "ExecuteTime": {
     "end_time": "2020-01-10T15:11:37.858542Z",
     "start_time": "2020-01-10T15:11:37.844319Z"
    }
   },
   "outputs": [
    {
     "data": {
      "text/html": [
       "<div>\n",
       "<style scoped>\n",
       "    .dataframe tbody tr th:only-of-type {\n",
       "        vertical-align: middle;\n",
       "    }\n",
       "\n",
       "    .dataframe tbody tr th {\n",
       "        vertical-align: top;\n",
       "    }\n",
       "\n",
       "    .dataframe thead th {\n",
       "        text-align: right;\n",
       "    }\n",
       "</style>\n",
       "<table border=\"1\" class=\"dataframe\">\n",
       "  <thead>\n",
       "    <tr style=\"text-align: right;\">\n",
       "      <th></th>\n",
       "      <th>club</th>\n",
       "      <th>538_score</th>\n",
       "      <th>score_list</th>\n",
       "      <th>overall</th>\n",
       "      <th>value_eur</th>\n",
       "    </tr>\n",
       "  </thead>\n",
       "  <tbody>\n",
       "    <tr>\n",
       "      <td>110</td>\n",
       "      <td>Rio Ave FC</td>\n",
       "      <td>50.4</td>\n",
       "      <td>[74, 74, 73, 73, 73, 72, 72, 71, 70, 70, 70, 7...</td>\n",
       "      <td>68.666667</td>\n",
       "      <td>2.000000e+06</td>\n",
       "    </tr>\n",
       "    <tr>\n",
       "      <td>111</td>\n",
       "      <td>VfB Stuttgart</td>\n",
       "      <td>50.2</td>\n",
       "      <td>[78, 76, 76, 75, 75, 75, 75, 74, 73, 73, 73, 7...</td>\n",
       "      <td>69.200000</td>\n",
       "      <td>3.398000e+06</td>\n",
       "    </tr>\n",
       "    <tr>\n",
       "      <td>112</td>\n",
       "      <td>Lecce</td>\n",
       "      <td>50.0</td>\n",
       "      <td>[75, 73, 73, 73, 72, 72, 72, 71, 71, 70, 70, 7...</td>\n",
       "      <td>66.272727</td>\n",
       "      <td>1.410606e+06</td>\n",
       "    </tr>\n",
       "    <tr>\n",
       "      <td>113</td>\n",
       "      <td>Toulouse Football Club</td>\n",
       "      <td>49.3</td>\n",
       "      <td>[79, 77, 77, 76, 75, 75, 75, 75, 73, 72, 72, 7...</td>\n",
       "      <td>69.068966</td>\n",
       "      <td>3.660000e+06</td>\n",
       "    </tr>\n",
       "    <tr>\n",
       "      <td>114</td>\n",
       "      <td>Middlesbrough</td>\n",
       "      <td>49.0</td>\n",
       "      <td>[75, 74, 73, 72, 72, 72, 72, 71, 71, 70, 69, 6...</td>\n",
       "      <td>64.633333</td>\n",
       "      <td>1.518000e+06</td>\n",
       "    </tr>\n",
       "    <tr>\n",
       "      <td>115</td>\n",
       "      <td>Cardiff City</td>\n",
       "      <td>48.9</td>\n",
       "      <td>[76, 75, 74, 74, 74, 73, 73, 73, 73, 73, 72, 7...</td>\n",
       "      <td>68.533333</td>\n",
       "      <td>2.363333e+06</td>\n",
       "    </tr>\n",
       "    <tr>\n",
       "      <td>116</td>\n",
       "      <td>Swansea City</td>\n",
       "      <td>48.6</td>\n",
       "      <td>[76, 75, 73, 73, 72, 72, 72, 72, 72, 71, 70, 7...</td>\n",
       "      <td>67.066667</td>\n",
       "      <td>2.067667e+06</td>\n",
       "    </tr>\n",
       "    <tr>\n",
       "      <td>117</td>\n",
       "      <td>Hamburger SV</td>\n",
       "      <td>48.2</td>\n",
       "      <td>[76, 76, 74, 74, 74, 74, 74, 74, 73, 73, 72, 7...</td>\n",
       "      <td>69.800000</td>\n",
       "      <td>3.188667e+06</td>\n",
       "    </tr>\n",
       "    <tr>\n",
       "      <td>118</td>\n",
       "      <td>FC Lorient</td>\n",
       "      <td>47.8</td>\n",
       "      <td>[73, 73, 73, 72, 72, 72, 71, 69, 69, 68, 68, 6...</td>\n",
       "      <td>65.965517</td>\n",
       "      <td>1.482759e+06</td>\n",
       "    </tr>\n",
       "    <tr>\n",
       "      <td>119</td>\n",
       "      <td>Reading</td>\n",
       "      <td>47.6</td>\n",
       "      <td>[74, 73, 73, 73, 72, 72, 72, 71, 71, 71, 70, 6...</td>\n",
       "      <td>67.133333</td>\n",
       "      <td>1.870333e+06</td>\n",
       "    </tr>\n",
       "  </tbody>\n",
       "</table>\n",
       "</div>"
      ],
      "text/plain": [
       "                       club  538_score  \\\n",
       "110              Rio Ave FC       50.4   \n",
       "111           VfB Stuttgart       50.2   \n",
       "112                   Lecce       50.0   \n",
       "113  Toulouse Football Club       49.3   \n",
       "114           Middlesbrough       49.0   \n",
       "115            Cardiff City       48.9   \n",
       "116            Swansea City       48.6   \n",
       "117            Hamburger SV       48.2   \n",
       "118              FC Lorient       47.8   \n",
       "119                 Reading       47.6   \n",
       "\n",
       "                                            score_list    overall  \\\n",
       "110  [74, 74, 73, 73, 73, 72, 72, 71, 70, 70, 70, 7...  68.666667   \n",
       "111  [78, 76, 76, 75, 75, 75, 75, 74, 73, 73, 73, 7...  69.200000   \n",
       "112  [75, 73, 73, 73, 72, 72, 72, 71, 71, 70, 70, 7...  66.272727   \n",
       "113  [79, 77, 77, 76, 75, 75, 75, 75, 73, 72, 72, 7...  69.068966   \n",
       "114  [75, 74, 73, 72, 72, 72, 72, 71, 71, 70, 69, 6...  64.633333   \n",
       "115  [76, 75, 74, 74, 74, 73, 73, 73, 73, 73, 72, 7...  68.533333   \n",
       "116  [76, 75, 73, 73, 72, 72, 72, 72, 72, 71, 70, 7...  67.066667   \n",
       "117  [76, 76, 74, 74, 74, 74, 74, 74, 73, 73, 72, 7...  69.800000   \n",
       "118  [73, 73, 73, 72, 72, 72, 71, 69, 69, 68, 68, 6...  65.965517   \n",
       "119  [74, 73, 73, 73, 72, 72, 72, 71, 71, 71, 70, 6...  67.133333   \n",
       "\n",
       "        value_eur  \n",
       "110  2.000000e+06  \n",
       "111  3.398000e+06  \n",
       "112  1.410606e+06  \n",
       "113  3.660000e+06  \n",
       "114  1.518000e+06  \n",
       "115  2.363333e+06  \n",
       "116  2.067667e+06  \n",
       "117  3.188667e+06  \n",
       "118  1.482759e+06  \n",
       "119  1.870333e+06  "
      ]
     },
     "execution_count": 353,
     "metadata": {},
     "output_type": "execute_result"
    }
   ],
   "source": [
    "attributes_df[110:120]"
   ]
  },
  {
   "cell_type": "code",
   "execution_count": 359,
   "metadata": {
    "ExecuteTime": {
     "end_time": "2020-01-10T15:13:16.006333Z",
     "start_time": "2020-01-10T15:13:15.998107Z"
    }
   },
   "outputs": [
    {
     "name": "stderr",
     "output_type": "stream",
     "text": [
      "/Users/Saibo/anaconda3/lib/python3.7/site-packages/ipykernel_launcher.py:1: UserWarning: Boolean Series key will be reindexed to match DataFrame index.\n",
      "  \"\"\"Entry point for launching an IPython kernel.\n"
     ]
    }
   ],
   "source": [
    "attributes_df=attributes_df[attributes_df['score_list'].apply(len).sort_values()!=1]"
   ]
  },
  {
   "cell_type": "code",
   "execution_count": 360,
   "metadata": {
    "ExecuteTime": {
     "end_time": "2020-01-10T15:13:21.972015Z",
     "start_time": "2020-01-10T15:13:21.965607Z"
    }
   },
   "outputs": [
    {
     "name": "stderr",
     "output_type": "stream",
     "text": [
      "/Users/Saibo/anaconda3/lib/python3.7/site-packages/pandas/core/generic.py:5208: SettingWithCopyWarning: \n",
      "A value is trying to be set on a copy of a slice from a DataFrame.\n",
      "Try using .loc[row_indexer,col_indexer] = value instead\n",
      "\n",
      "See the caveats in the documentation: http://pandas.pydata.org/pandas-docs/stable/user_guide/indexing.html#returning-a-view-versus-a-copy\n",
      "  self[name] = value\n"
     ]
    }
   ],
   "source": [
    "# Choose just the 21 (n_players) best player scores for each team\n",
    "\n",
    "n_players = min(attributes_df.score_list.apply(len))\n",
    "n_clubs = attributes_df.index.size\n",
    "def filter_top(x):\n",
    "    x.sort()\n",
    "    x = x[::-1].copy()\n",
    "    return x[:n_players]\n",
    "\n",
    "attributes_df.score_list = attributes_df.score_list.apply(filter_top)"
   ]
  },
  {
   "cell_type": "code",
   "execution_count": 372,
   "metadata": {
    "ExecuteTime": {
     "end_time": "2020-01-10T15:16:25.877627Z",
     "start_time": "2020-01-10T15:16:25.865807Z"
    }
   },
   "outputs": [
    {
     "data": {
      "text/html": [
       "<div>\n",
       "<style scoped>\n",
       "    .dataframe tbody tr th:only-of-type {\n",
       "        vertical-align: middle;\n",
       "    }\n",
       "\n",
       "    .dataframe tbody tr th {\n",
       "        vertical-align: top;\n",
       "    }\n",
       "\n",
       "    .dataframe thead th {\n",
       "        text-align: right;\n",
       "    }\n",
       "</style>\n",
       "<table border=\"1\" class=\"dataframe\">\n",
       "  <thead>\n",
       "    <tr style=\"text-align: right;\">\n",
       "      <th></th>\n",
       "      <th>club</th>\n",
       "      <th>538_score</th>\n",
       "      <th>score_list</th>\n",
       "      <th>overall</th>\n",
       "      <th>value_eur</th>\n",
       "    </tr>\n",
       "  </thead>\n",
       "  <tbody>\n",
       "    <tr>\n",
       "      <td>65</td>\n",
       "      <td>1. FC Union Berlin</td>\n",
       "      <td>64.2</td>\n",
       "      <td>[77, 75, 74, 73, 73, 73, 73, 73, 72, 72, 72, 7...</td>\n",
       "      <td>68.787879</td>\n",
       "      <td>2.206970e+06</td>\n",
       "    </tr>\n",
       "    <tr>\n",
       "      <td>66</td>\n",
       "      <td>Bologna</td>\n",
       "      <td>64.1</td>\n",
       "      <td>[78, 77, 77, 76, 76, 76, 76, 76, 75, 75, 75, 7...</td>\n",
       "      <td>71.903226</td>\n",
       "      <td>4.812742e+06</td>\n",
       "    </tr>\n",
       "    <tr>\n",
       "      <td>67</td>\n",
       "      <td>Sporting CP</td>\n",
       "      <td>64.0</td>\n",
       "      <td>[85, 82, 82, 82, 81, 81, 79, 78, 77, 77, 77, 7...</td>\n",
       "      <td>74.900000</td>\n",
       "      <td>9.367500e+06</td>\n",
       "    </tr>\n",
       "    <tr>\n",
       "      <td>68</td>\n",
       "      <td>SC Freiburg</td>\n",
       "      <td>63.9</td>\n",
       "      <td>[78, 78, 76, 76, 75, 75, 75, 75, 75, 73, 73, 7...</td>\n",
       "      <td>70.419355</td>\n",
       "      <td>3.797419e+06</td>\n",
       "    </tr>\n",
       "    <tr>\n",
       "      <td>69</td>\n",
       "      <td>Levante UD</td>\n",
       "      <td>63.8</td>\n",
       "      <td>[82, 80, 78, 78, 78, 77, 77, 77, 76, 76, 76, 7...</td>\n",
       "      <td>72.875000</td>\n",
       "      <td>6.258594e+06</td>\n",
       "    </tr>\n",
       "  </tbody>\n",
       "</table>\n",
       "</div>"
      ],
      "text/plain": [
       "                  club  538_score  \\\n",
       "65  1. FC Union Berlin       64.2   \n",
       "66             Bologna       64.1   \n",
       "67         Sporting CP       64.0   \n",
       "68         SC Freiburg       63.9   \n",
       "69          Levante UD       63.8   \n",
       "\n",
       "                                           score_list    overall     value_eur  \n",
       "65  [77, 75, 74, 73, 73, 73, 73, 73, 72, 72, 72, 7...  68.787879  2.206970e+06  \n",
       "66  [78, 77, 77, 76, 76, 76, 76, 76, 75, 75, 75, 7...  71.903226  4.812742e+06  \n",
       "67  [85, 82, 82, 82, 81, 81, 79, 78, 77, 77, 77, 7...  74.900000  9.367500e+06  \n",
       "68  [78, 78, 76, 76, 75, 75, 75, 75, 75, 73, 73, 7...  70.419355  3.797419e+06  \n",
       "69  [82, 80, 78, 78, 78, 77, 77, 77, 76, 76, 76, 7...  72.875000  6.258594e+06  "
      ]
     },
     "execution_count": 372,
     "metadata": {},
     "output_type": "execute_result"
    }
   ],
   "source": [
    "attributes_df[65:70]"
   ]
  },
  {
   "cell_type": "code",
   "execution_count": 362,
   "metadata": {
    "ExecuteTime": {
     "end_time": "2020-01-10T15:13:28.558117Z",
     "start_time": "2020-01-10T15:13:28.554917Z"
    }
   },
   "outputs": [],
   "source": [
    "import torch\n",
    "import torch.nn as nn\n",
    "import torch.nn.functional as F\n",
    "import torch.optim as optim\n",
    "from torch.utils.data import Dataset, DataLoader"
   ]
  },
  {
   "cell_type": "code",
   "execution_count": 370,
   "metadata": {
    "ExecuteTime": {
     "end_time": "2020-01-10T15:14:30.878140Z",
     "start_time": "2020-01-10T15:14:30.872235Z"
    }
   },
   "outputs": [
    {
     "data": {
      "text/plain": [
       "array([list([85, 84, 81, 81, 80, 79, 79, 79, 78, 78, 78, 78, 78, 77, 77, 76, 76, 75, 74, 73, 70]),\n",
       "       list([75, 74, 74, 74, 74, 73, 73, 73, 73, 72, 72, 72, 72, 70, 70, 70, 69, 69, 69, 69, 68]),\n",
       "       list([70, 70, 69, 69, 69, 69, 69, 68, 68, 68, 66, 66, 66, 66, 66, 65, 64, 64, 64, 63, 63]),\n",
       "       list([77, 76, 74, 74, 73, 73, 72, 72, 71, 70, 70, 68, 67, 67, 66, 66, 64, 60, 59, 57, 56]),\n",
       "       list([83, 83, 82, 82, 81, 80, 80, 80, 80, 79, 79, 78, 78, 76, 75, 75, 75, 74, 74, 72, 71]),\n",
       "       list([82, 82, 80, 78, 78, 78, 77, 77, 76, 76, 76, 76, 75, 75, 74, 74, 74, 74, 74, 73, 73]),\n",
       "       list([74, 73, 73, 73, 72, 72, 72, 71, 71, 71, 70, 69, 69, 69, 68, 68, 68, 67, 66, 66, 66]),\n",
       "       list([72, 72, 71, 71, 71, 70, 70, 70, 69, 69, 69, 69, 68, 68, 68, 68, 67, 67, 67, 67, 66]),\n",
       "       list([76, 76, 75, 74, 72, 72, 72, 71, 71, 70, 70, 69, 69, 69, 68, 68, 68, 67, 67, 66, 66]),\n",
       "       list([77, 76, 75, 75, 75, 74, 74, 73, 73, 73, 73, 72, 72, 72, 72, 71, 71, 70, 69, 69, 68]),\n",
       "       list([74, 73, 73, 72, 71, 71, 71, 70, 70, 69, 69, 69, 68, 68, 67, 66, 66, 66, 66, 66, 66]),\n",
       "       list([76, 75, 74, 74, 74, 74, 74, 73, 72, 71, 71, 71, 71, 71, 70, 70, 70, 70, 69, 69, 66]),\n",
       "       list([83, 82, 82, 81, 80, 79, 79, 79, 79, 78, 78, 78, 77, 76, 76, 75, 74, 73, 73, 73, 72]),\n",
       "       list([85, 83, 83, 82, 81, 81, 81, 80, 79, 79, 78, 77, 77, 77, 77, 76, 76, 76, 76, 76, 75]),\n",
       "       list([79, 79, 78, 77, 77, 77, 77, 77, 76, 76, 76, 76, 76, 76, 75, 75, 74, 74, 73, 73, 73]),\n",
       "       list([76, 75, 74, 74, 74, 73, 73, 73, 73, 73, 72, 72, 72, 72, 69, 69, 69, 69, 68, 68, 66]),\n",
       "       list([84, 83, 82, 80, 80, 79, 79, 78, 78, 77, 77, 77, 77, 74, 73, 72, 70, 70, 70, 70, 66]),\n",
       "       list([83, 82, 80, 80, 79, 79, 79, 78, 78, 78, 77, 77, 77, 76, 76, 75, 75, 75, 75, 75, 75]),\n",
       "       list([77, 75, 74, 74, 73, 73, 73, 73, 73, 72, 72, 72, 72, 72, 71, 71, 71, 70, 70, 70, 70]),\n",
       "       list([77, 76, 76, 75, 75, 75, 74, 74, 74, 74, 72, 72, 72, 72, 72, 71, 70, 69, 69, 68, 68]),\n",
       "       list([83, 82, 80, 80, 80, 79, 78, 78, 77, 77, 76, 76, 76, 76, 75, 74, 74, 74, 74, 74, 74]),\n",
       "       list([88, 87, 85, 85, 84, 84, 83, 83, 82, 82, 82, 82, 81, 81, 80, 79, 79, 78, 78, 76, 75]),\n",
       "       list([90, 90, 89, 88, 86, 85, 85, 84, 83, 83, 82, 82, 82, 81, 80, 80, 80, 79, 78, 78, 76]),\n",
       "       list([71, 71, 71, 70, 70, 70, 70, 69, 68, 68, 68, 68, 68, 67, 67, 66, 66, 64, 63, 62, 61]),\n",
       "       list([80, 76, 76, 75, 75, 75, 75, 74, 74, 74, 74, 74, 74, 73, 73, 72, 71, 71, 69, 69, 69]),\n",
       "       list([73, 71, 70, 70, 69, 68, 68, 68, 67, 67, 67, 67, 67, 67, 66, 66, 66, 65, 65, 62, 61]),\n",
       "       list([81, 78, 77, 76, 75, 75, 74, 74, 74, 74, 74, 73, 73, 72, 72, 72, 71, 71, 71, 70, 70]),\n",
       "       list([78, 76, 75, 75, 75, 75, 74, 74, 74, 74, 73, 73, 73, 73, 73, 73, 71, 69, 68, 68, 68]),\n",
       "       list([74, 73, 73, 73, 72, 72, 72, 72, 71, 71, 70, 70, 70, 70, 70, 69, 68, 67, 66, 66, 65]),\n",
       "       list([83, 81, 79, 79, 78, 78, 78, 77, 76, 76, 76, 76, 75, 75, 75, 75, 75, 75, 74, 73, 72]),\n",
       "       list([84, 83, 82, 81, 80, 79, 79, 79, 78, 78, 78, 78, 77, 77, 76, 76, 76, 76, 76, 75, 75]),\n",
       "       list([82, 80, 78, 78, 78, 77, 77, 77, 76, 76, 76, 76, 75, 75, 75, 75, 75, 74, 74, 74, 73]),\n",
       "       list([70, 69, 68, 68, 68, 68, 66, 66, 65, 64, 63, 63, 63, 62, 62, 60, 60, 59, 59, 58, 57]),\n",
       "       list([78, 76, 76, 75, 75, 75, 75, 74, 73, 73, 73, 72, 72, 71, 71, 70, 69, 69, 69, 68, 68]),\n",
       "       list([79, 75, 73, 72, 70, 70, 69, 69, 69, 69, 68, 68, 68, 68, 68, 68, 67, 67, 67, 67, 67]),\n",
       "       list([69, 68, 68, 68, 67, 66, 66, 66, 66, 65, 65, 64, 64, 64, 63, 63, 63, 62, 61, 61, 61]),\n",
       "       list([69, 69, 68, 67, 67, 67, 67, 67, 66, 66, 66, 66, 66, 64, 64, 64, 64, 61, 59, 58, 57]),\n",
       "       list([72, 71, 70, 69, 69, 69, 69, 68, 68, 68, 68, 68, 68, 67, 67, 66, 66, 66, 66, 66, 65]),\n",
       "       list([80, 80, 79, 79, 78, 78, 78, 77, 76, 76, 76, 76, 76, 75, 75, 75, 75, 75, 75, 74, 74]),\n",
       "       list([72, 71, 70, 69, 69, 69, 68, 68, 66, 66, 66, 66, 65, 65, 65, 64, 63, 62, 62, 61, 60]),\n",
       "       list([76, 76, 75, 75, 75, 75, 75, 74, 73, 72, 72, 71, 71, 70, 69, 69, 68, 68, 65, 64, 62]),\n",
       "       list([71, 70, 70, 69, 69, 68, 68, 67, 66, 66, 66, 65, 64, 64, 64, 63, 63, 63, 62, 60, 60]),\n",
       "       list([85, 84, 83, 82, 82, 82, 81, 81, 79, 77, 77, 77, 77, 76, 76, 75, 75, 74, 72, 71, 71]),\n",
       "       list([75, 74, 74, 74, 73, 73, 73, 72, 72, 71, 71, 70, 70, 70, 69, 67, 67, 65, 65, 65, 63]),\n",
       "       list([76, 75, 73, 73, 72, 72, 72, 72, 72, 71, 70, 70, 70, 70, 69, 69, 69, 68, 68, 67, 66]),\n",
       "       list([75, 75, 74, 73, 73, 72, 72, 72, 72, 71, 71, 70, 70, 70, 70, 70, 69, 69, 69, 69, 68]),\n",
       "       list([85, 83, 82, 82, 82, 82, 80, 80, 80, 80, 80, 80, 79, 79, 79, 78, 77, 76, 76, 75, 75]),\n",
       "       list([83, 78, 77, 76, 75, 75, 75, 75, 74, 73, 73, 73, 72, 72, 72, 71, 71, 71, 71, 70, 70]),\n",
       "       list([67, 66, 66, 66, 66, 65, 65, 65, 65, 65, 64, 64, 64, 64, 63, 63, 63, 63, 63, 61, 61]),\n",
       "       list([83, 81, 81, 80, 80, 79, 79, 78, 78, 77, 76, 75, 75, 75, 74, 74, 73, 72, 70, 65, 65]),\n",
       "       list([70, 68, 68, 67, 67, 66, 66, 65, 65, 65, 65, 64, 64, 63, 63, 63, 62, 61, 60, 60, 59]),\n",
       "       list([75, 75, 73, 73, 73, 73, 72, 71, 71, 71, 71, 71, 70, 69, 69, 69, 68, 66, 66, 64, 64]),\n",
       "       list([79, 77, 76, 76, 76, 76, 76, 76, 75, 75, 75, 74, 74, 74, 74, 73, 73, 72, 70, 70, 70]),\n",
       "       list([79, 78, 78, 78, 77, 77, 77, 77, 76, 76, 76, 76, 76, 76, 75, 75, 75, 75, 74, 74, 74]),\n",
       "       list([84, 83, 82, 81, 80, 80, 79, 79, 79, 79, 78, 78, 78, 78, 78, 76, 76, 76, 75, 75, 75]),\n",
       "       list([88, 88, 86, 85, 85, 84, 82, 81, 81, 81, 80, 80, 79, 79, 79, 78, 77, 76, 75, 75, 75]),\n",
       "       list([85, 82, 82, 82, 81, 81, 79, 78, 77, 77, 77, 77, 76, 76, 76, 75, 75, 75, 74, 73, 73]),\n",
       "       list([74, 74, 73, 73, 73, 72, 72, 71, 70, 70, 70, 70, 69, 69, 69, 68, 68, 68, 67, 67, 67]),\n",
       "       list([74, 73, 71, 71, 70, 70, 69, 69, 69, 68, 68, 68, 67, 67, 66, 66, 66, 65, 65, 65, 65]),\n",
       "       list([74, 73, 72, 72, 72, 72, 72, 71, 70, 70, 70, 70, 70, 70, 69, 69, 69, 68, 67, 65, 65]),\n",
       "       list([76, 75, 74, 73, 73, 72, 72, 72, 72, 72, 71, 70, 70, 70, 68, 67, 67, 66, 64, 64, 64]),\n",
       "       list([74, 74, 73, 73, 73, 73, 73, 73, 72, 71, 71, 70, 70, 69, 68, 67, 66, 65, 65, 63, 63]),\n",
       "       list([84, 84, 83, 83, 83, 81, 80, 80, 80, 80, 80, 78, 78, 77, 77, 76, 75, 74, 72, 71, 70]),\n",
       "       list([75, 74, 74, 73, 73, 72, 72, 71, 70, 70, 70, 70, 70, 69, 68, 68, 65, 65, 64, 64, 63]),\n",
       "       list([91, 89, 88, 88, 88, 87, 87, 87, 86, 85, 84, 84, 84, 84, 83, 83, 82, 80, 79, 78, 77]),\n",
       "       list([80, 79, 79, 75, 75, 75, 75, 73, 73, 73, 73, 72, 72, 72, 72, 71, 70, 70, 70, 69, 67]),\n",
       "       list([75, 73, 73, 73, 72, 72, 72, 71, 71, 70, 70, 70, 70, 69, 69, 68, 68, 68, 68, 67, 65]),\n",
       "       list([72, 69, 69, 69, 69, 69, 68, 67, 67, 66, 65, 65, 65, 65, 65, 65, 64, 64, 62, 59, 59]),\n",
       "       list([76, 74, 74, 73, 73, 72, 72, 72, 72, 71, 71, 70, 70, 69, 69, 68, 67, 67, 67, 67, 67]),\n",
       "       list([81, 80, 78, 78, 78, 78, 78, 77, 76, 76, 75, 75, 74, 73, 73, 73, 72, 72, 70, 69, 69]),\n",
       "       list([76, 76, 75, 75, 74, 74, 74, 74, 74, 73, 73, 73, 73, 72, 72, 72, 71, 70, 70, 69, 69]),\n",
       "       list([82, 79, 78, 78, 77, 77, 76, 76, 76, 76, 75, 75, 75, 75, 75, 74, 74, 73, 72, 72, 70]),\n",
       "       list([91, 85, 85, 85, 84, 83, 83, 83, 82, 82, 82, 82, 81, 80, 80, 80, 80, 80, 79, 79, 79]),\n",
       "       list([78, 78, 78, 77, 77, 77, 77, 76, 74, 74, 74, 73, 73, 72, 72, 72, 72, 71, 70, 70, 70]),\n",
       "       list([83, 82, 82, 82, 81, 81, 81, 80, 80, 80, 79, 79, 79, 78, 78, 78, 78, 77, 77, 77, 77]),\n",
       "       list([84, 80, 80, 79, 79, 79, 78, 77, 76, 76, 76, 75, 75, 75, 75, 75, 75, 75, 73, 73, 70]),\n",
       "       list([86, 85, 84, 84, 83, 82, 81, 80, 80, 80, 80, 79, 78, 78, 78, 77, 77, 77, 76, 76, 76]),\n",
       "       list([78, 76, 75, 75, 73, 73, 72, 72, 72, 72, 72, 72, 72, 72, 72, 72, 72, 71, 71, 71, 71]),\n",
       "       list([75, 74, 74, 74, 73, 72, 72, 72, 71, 71, 71, 70, 70, 70, 69, 69, 69, 69, 68, 67, 67]),\n",
       "       list([84, 81, 81, 80, 80, 78, 78, 78, 78, 78, 77, 77, 77, 77, 77, 76, 76, 76, 76, 76, 75]),\n",
       "       list([79, 77, 75, 75, 75, 74, 74, 73, 73, 73, 73, 73, 73, 72, 71, 71, 71, 69, 68, 68, 67]),\n",
       "       list([78, 78, 76, 76, 75, 74, 73, 73, 73, 73, 73, 73, 72, 72, 71, 71, 71, 71, 70, 70, 69]),\n",
       "       list([71, 69, 69, 69, 69, 69, 69, 68, 68, 68, 68, 68, 67, 67, 67, 67, 67, 66, 66, 65, 65]),\n",
       "       list([85, 84, 82, 80, 79, 79, 78, 78, 78, 78, 78, 77, 77, 77, 76, 76, 76, 73, 70, 69, 68]),\n",
       "       list([81, 79, 77, 77, 77, 76, 76, 76, 75, 75, 75, 74, 74, 74, 73, 73, 73, 73, 71, 70, 69]),\n",
       "       list([76, 75, 75, 75, 74, 74, 73, 73, 73, 73, 72, 72, 72, 71, 71, 70, 69, 69, 69, 68, 68]),\n",
       "       list([73, 72, 71, 71, 71, 70, 70, 70, 70, 69, 69, 69, 69, 69, 68, 68, 68, 68, 68, 67, 67]),\n",
       "       list([84, 83, 82, 81, 81, 80, 80, 80, 79, 79, 79, 78, 78, 77, 76, 76, 76, 76, 76, 75, 75]),\n",
       "       list([74, 70, 69, 69, 68, 67, 67, 67, 66, 65, 65, 64, 61, 61, 60, 60, 60, 60, 56, 56, 56]),\n",
       "       list([76, 75, 75, 75, 74, 74, 74, 74, 73, 72, 72, 72, 72, 71, 70, 70, 69, 67, 67, 67, 67]),\n",
       "       list([74, 74, 73, 72, 72, 72, 72, 72, 70, 70, 70, 69, 67, 67, 67, 66, 65, 64, 61, 60, 59]),\n",
       "       list([74, 73, 72, 72, 72, 72, 72, 71, 71, 71, 71, 71, 70, 70, 68, 68, 68, 68, 67, 67, 66]),\n",
       "       list([78, 77, 77, 76, 76, 76, 76, 76, 75, 75, 75, 75, 74, 74, 73, 73, 73, 72, 72, 72, 72]),\n",
       "       list([86, 83, 83, 83, 83, 82, 81, 81, 81, 80, 80, 80, 80, 79, 78, 77, 77, 77, 76, 76, 76]),\n",
       "       list([80, 80, 80, 79, 79, 79, 78, 78, 78, 78, 77, 77, 77, 76, 75, 75, 75, 74, 73, 71, 68]),\n",
       "       list([74, 74, 73, 73, 73, 72, 72, 71, 71, 71, 70, 69, 68, 68, 67, 67, 67, 67, 67, 66, 65]),\n",
       "       list([80, 80, 80, 80, 79, 79, 79, 79, 78, 77, 77, 77, 76, 76, 75, 75, 74, 74, 73, 73, 71]),\n",
       "       list([78, 77, 76, 75, 75, 75, 75, 74, 74, 73, 73, 73, 73, 72, 72, 71, 70, 70, 70, 69, 69]),\n",
       "       list([79, 78, 77, 77, 77, 77, 76, 75, 75, 75, 75, 74, 74, 74, 73, 73, 73, 73, 73, 72, 72]),\n",
       "       list([72, 71, 68, 68, 68, 68, 67, 67, 67, 66, 65, 65, 65, 64, 63, 63, 62, 62, 62, 61, 61]),\n",
       "       list([81, 79, 79, 78, 77, 76, 76, 76, 75, 75, 75, 75, 74, 74, 74, 74, 73, 73, 71, 71, 71]),\n",
       "       list([73, 73, 73, 72, 72, 72, 71, 69, 69, 68, 68, 68, 68, 68, 68, 67, 67, 67, 66, 66, 65]),\n",
       "       list([92, 89, 88, 87, 86, 86, 86, 83, 83, 83, 82, 82, 82, 82, 80, 80, 79, 79, 77, 76, 75]),\n",
       "       list([77, 76, 76, 75, 75, 75, 75, 74, 73, 72, 72, 71, 70, 70, 68, 68, 68, 67, 66, 65, 65]),\n",
       "       list([81, 80, 77, 76, 76, 76, 76, 75, 75, 75, 74, 74, 74, 73, 73, 73, 73, 73, 72, 72, 72]),\n",
       "       list([82, 82, 82, 81, 81, 80, 80, 80, 80, 79, 79, 78, 78, 78, 77, 76, 74, 74, 73, 73, 73]),\n",
       "       list([84, 82, 81, 81, 80, 79, 79, 78, 78, 77, 77, 75, 75, 75, 74, 73, 71, 71, 69, 69, 68]),\n",
       "       list([89, 88, 83, 83, 82, 82, 82, 82, 81, 81, 81, 80, 80, 80, 79, 79, 79, 78, 77, 77, 77]),\n",
       "       list([80, 78, 77, 75, 74, 74, 74, 73, 73, 73, 73, 73, 73, 72, 72, 72, 72, 72, 71, 71, 70]),\n",
       "       list([72, 72, 71, 71, 71, 71, 70, 70, 69, 69, 69, 68, 68, 68, 67, 66, 66, 65, 64, 63, 62]),\n",
       "       list([91, 90, 89, 88, 88, 87, 87, 87, 86, 85, 85, 85, 85, 85, 83, 83, 82, 81, 81, 80, 80]),\n",
       "       list([73, 73, 72, 71, 70, 70, 69, 69, 69, 69, 68, 67, 66, 66, 65, 64, 64, 63, 63, 61, 60]),\n",
       "       list([77, 73, 72, 69, 69, 69, 69, 68, 68, 68, 67, 67, 66, 66, 66, 66, 66, 66, 66, 66, 65]),\n",
       "       list([67, 67, 67, 66, 65, 65, 65, 65, 64, 64, 63, 63, 63, 63, 63, 63, 62, 62, 62, 62, 61]),\n",
       "       list([72, 70, 68, 68, 67, 67, 66, 66, 66, 65, 65, 64, 64, 64, 64, 61, 61, 60, 59, 59, 59]),\n",
       "       list([71, 69, 69, 69, 68, 68, 67, 67, 66, 66, 66, 66, 65, 65, 65, 65, 65, 65, 64, 64, 63]),\n",
       "       list([89, 88, 87, 86, 86, 86, 85, 85, 84, 84, 84, 84, 84, 84, 84, 83, 79, 79, 75, 72, 72]),\n",
       "       list([79, 77, 77, 76, 75, 75, 75, 75, 73, 72, 72, 72, 72, 71, 70, 70, 70, 69, 67, 67, 65]),\n",
       "       list([78, 77, 76, 75, 74, 73, 72, 72, 72, 72, 72, 72, 72, 71, 71, 71, 70, 70, 69, 69, 68]),\n",
       "       list([88, 86, 84, 84, 84, 83, 83, 82, 81, 81, 81, 80, 79, 79, 79, 77, 76, 76, 75, 75, 75]),\n",
       "       list([83, 82, 82, 80, 80, 79, 79, 78, 77, 77, 76, 76, 76, 75, 74, 74, 74, 73, 72, 70, 69]),\n",
       "       list([80, 79, 78, 78, 78, 77, 77, 76, 76, 76, 76, 76, 76, 75, 75, 75, 75, 75, 74, 74, 74]),\n",
       "       list([81, 80, 80, 79, 79, 78, 77, 77, 76, 76, 75, 75, 75, 75, 75, 75, 75, 74, 74, 73, 73]),\n",
       "       list([83, 82, 81, 80, 79, 79, 78, 78, 78, 77, 77, 77, 77, 76, 76, 76, 76, 75, 74, 74, 74]),\n",
       "       list([78, 78, 78, 77, 75, 75, 75, 75, 75, 75, 74, 74, 74, 73, 73, 73, 72, 72, 71, 71, 70]),\n",
       "       list([69, 68, 68, 67, 67, 66, 66, 66, 66, 65, 65, 65, 65, 65, 65, 65, 64, 64, 64, 64, 64]),\n",
       "       list([83, 83, 83, 80, 80, 80, 79, 79, 79, 79, 78, 78, 77, 77, 77, 77, 77, 77, 76, 75, 75])],\n",
       "      dtype=object)"
      ]
     },
     "execution_count": 370,
     "metadata": {},
     "output_type": "execute_result"
    }
   ],
   "source": [
    "X_train"
   ]
  },
  {
   "cell_type": "code",
   "execution_count": 398,
   "metadata": {
    "ExecuteTime": {
     "end_time": "2020-01-10T15:40:35.023091Z",
     "start_time": "2020-01-10T15:40:34.790679Z"
    }
   },
   "outputs": [
    {
     "name": "stdout",
     "output_type": "stream",
     "text": [
      "[76, 74, 74, 73, 73, 72, 72, 72, 72, 71, 71, 70, 70, 69, 69, 68, 67, 67, 67, 67, 67]\n",
      "[76, 74, 74, 73, 73, 72, 72, 72, 72, 71, 71, 70, 70, 69, 69, 68, 67, 67, 67, 67, 67]\n"
     ]
    },
    {
     "ename": "KeyError",
     "evalue": "68",
     "output_type": "error",
     "traceback": [
      "\u001b[0;31m---------------------------------------------------------------------------\u001b[0m",
      "\u001b[0;31mKeyError\u001b[0m                                  Traceback (most recent call last)",
      "\u001b[0;32m<ipython-input-398-2015543c01cb>\u001b[0m in \u001b[0;36m<module>\u001b[0;34m\u001b[0m\n\u001b[1;32m     25\u001b[0m         \u001b[0;32mreturn\u001b[0m \u001b[0mtorch\u001b[0m\u001b[0;34m.\u001b[0m\u001b[0mtensor\u001b[0m\u001b[0;34m(\u001b[0m\u001b[0mself\u001b[0m\u001b[0;34m.\u001b[0m\u001b[0mX\u001b[0m\u001b[0;34m[\u001b[0m\u001b[0mindex\u001b[0m\u001b[0;34m]\u001b[0m\u001b[0;34m)\u001b[0m\u001b[0;34m,\u001b[0m \u001b[0mself\u001b[0m\u001b[0;34m.\u001b[0m\u001b[0my\u001b[0m\u001b[0;34m[\u001b[0m\u001b[0mindex\u001b[0m\u001b[0;34m]\u001b[0m\u001b[0;34m\u001b[0m\u001b[0;34m\u001b[0m\u001b[0m\n\u001b[1;32m     26\u001b[0m \u001b[0mtrain_dataset\u001b[0m \u001b[0;34m=\u001b[0m \u001b[0mClubsDataset\u001b[0m\u001b[0;34m(\u001b[0m\u001b[0mmode\u001b[0m\u001b[0;34m=\u001b[0m\u001b[0;34m'training'\u001b[0m\u001b[0;34m)\u001b[0m\u001b[0;34m\u001b[0m\u001b[0;34m\u001b[0m\u001b[0m\n\u001b[0;32m---> 27\u001b[0;31m \u001b[0mtrain_dataset\u001b[0m\u001b[0;34m.\u001b[0m\u001b[0m__getitem__\u001b[0m\u001b[0;34m(\u001b[0m\u001b[0;36m68\u001b[0m\u001b[0;34m)\u001b[0m\u001b[0;34m\u001b[0m\u001b[0;34m\u001b[0m\u001b[0m\n\u001b[0m",
      "\u001b[0;32m<ipython-input-398-2015543c01cb>\u001b[0m in \u001b[0;36m__getitem__\u001b[0;34m(self, index)\u001b[0m\n\u001b[1;32m     23\u001b[0m \u001b[0;34m\u001b[0m\u001b[0m\n\u001b[1;32m     24\u001b[0m     \u001b[0;32mdef\u001b[0m \u001b[0m__getitem__\u001b[0m\u001b[0;34m(\u001b[0m\u001b[0mself\u001b[0m\u001b[0;34m,\u001b[0m \u001b[0mindex\u001b[0m\u001b[0;34m)\u001b[0m\u001b[0;34m:\u001b[0m\u001b[0;34m\u001b[0m\u001b[0;34m\u001b[0m\u001b[0m\n\u001b[0;32m---> 25\u001b[0;31m         \u001b[0;32mreturn\u001b[0m \u001b[0mtorch\u001b[0m\u001b[0;34m.\u001b[0m\u001b[0mtensor\u001b[0m\u001b[0;34m(\u001b[0m\u001b[0mself\u001b[0m\u001b[0;34m.\u001b[0m\u001b[0mX\u001b[0m\u001b[0;34m[\u001b[0m\u001b[0mindex\u001b[0m\u001b[0;34m]\u001b[0m\u001b[0;34m)\u001b[0m\u001b[0;34m,\u001b[0m \u001b[0mself\u001b[0m\u001b[0;34m.\u001b[0m\u001b[0my\u001b[0m\u001b[0;34m[\u001b[0m\u001b[0mindex\u001b[0m\u001b[0;34m]\u001b[0m\u001b[0;34m\u001b[0m\u001b[0;34m\u001b[0m\u001b[0m\n\u001b[0m\u001b[1;32m     26\u001b[0m \u001b[0mtrain_dataset\u001b[0m \u001b[0;34m=\u001b[0m \u001b[0mClubsDataset\u001b[0m\u001b[0;34m(\u001b[0m\u001b[0mmode\u001b[0m\u001b[0;34m=\u001b[0m\u001b[0;34m'training'\u001b[0m\u001b[0;34m)\u001b[0m\u001b[0;34m\u001b[0m\u001b[0;34m\u001b[0m\u001b[0m\n\u001b[1;32m     27\u001b[0m \u001b[0mtrain_dataset\u001b[0m\u001b[0;34m.\u001b[0m\u001b[0m__getitem__\u001b[0m\u001b[0;34m(\u001b[0m\u001b[0;36m68\u001b[0m\u001b[0;34m)\u001b[0m\u001b[0;34m\u001b[0m\u001b[0;34m\u001b[0m\u001b[0m\n",
      "\u001b[0;32m~/anaconda3/lib/python3.7/site-packages/pandas/core/series.py\u001b[0m in \u001b[0;36m__getitem__\u001b[0;34m(self, key)\u001b[0m\n\u001b[1;32m   1066\u001b[0m         \u001b[0mkey\u001b[0m \u001b[0;34m=\u001b[0m \u001b[0mcom\u001b[0m\u001b[0;34m.\u001b[0m\u001b[0mapply_if_callable\u001b[0m\u001b[0;34m(\u001b[0m\u001b[0mkey\u001b[0m\u001b[0;34m,\u001b[0m \u001b[0mself\u001b[0m\u001b[0;34m)\u001b[0m\u001b[0;34m\u001b[0m\u001b[0;34m\u001b[0m\u001b[0m\n\u001b[1;32m   1067\u001b[0m         \u001b[0;32mtry\u001b[0m\u001b[0;34m:\u001b[0m\u001b[0;34m\u001b[0m\u001b[0;34m\u001b[0m\u001b[0m\n\u001b[0;32m-> 1068\u001b[0;31m             \u001b[0mresult\u001b[0m \u001b[0;34m=\u001b[0m \u001b[0mself\u001b[0m\u001b[0;34m.\u001b[0m\u001b[0mindex\u001b[0m\u001b[0;34m.\u001b[0m\u001b[0mget_value\u001b[0m\u001b[0;34m(\u001b[0m\u001b[0mself\u001b[0m\u001b[0;34m,\u001b[0m \u001b[0mkey\u001b[0m\u001b[0;34m)\u001b[0m\u001b[0;34m\u001b[0m\u001b[0;34m\u001b[0m\u001b[0m\n\u001b[0m\u001b[1;32m   1069\u001b[0m \u001b[0;34m\u001b[0m\u001b[0m\n\u001b[1;32m   1070\u001b[0m             \u001b[0;32mif\u001b[0m \u001b[0;32mnot\u001b[0m \u001b[0mis_scalar\u001b[0m\u001b[0;34m(\u001b[0m\u001b[0mresult\u001b[0m\u001b[0;34m)\u001b[0m\u001b[0;34m:\u001b[0m\u001b[0;34m\u001b[0m\u001b[0;34m\u001b[0m\u001b[0m\n",
      "\u001b[0;32m~/anaconda3/lib/python3.7/site-packages/pandas/core/indexes/base.py\u001b[0m in \u001b[0;36mget_value\u001b[0;34m(self, series, key)\u001b[0m\n\u001b[1;32m   4728\u001b[0m         \u001b[0mk\u001b[0m \u001b[0;34m=\u001b[0m \u001b[0mself\u001b[0m\u001b[0;34m.\u001b[0m\u001b[0m_convert_scalar_indexer\u001b[0m\u001b[0;34m(\u001b[0m\u001b[0mk\u001b[0m\u001b[0;34m,\u001b[0m \u001b[0mkind\u001b[0m\u001b[0;34m=\u001b[0m\u001b[0;34m\"getitem\"\u001b[0m\u001b[0;34m)\u001b[0m\u001b[0;34m\u001b[0m\u001b[0;34m\u001b[0m\u001b[0m\n\u001b[1;32m   4729\u001b[0m         \u001b[0;32mtry\u001b[0m\u001b[0;34m:\u001b[0m\u001b[0;34m\u001b[0m\u001b[0;34m\u001b[0m\u001b[0m\n\u001b[0;32m-> 4730\u001b[0;31m             \u001b[0;32mreturn\u001b[0m \u001b[0mself\u001b[0m\u001b[0;34m.\u001b[0m\u001b[0m_engine\u001b[0m\u001b[0;34m.\u001b[0m\u001b[0mget_value\u001b[0m\u001b[0;34m(\u001b[0m\u001b[0ms\u001b[0m\u001b[0;34m,\u001b[0m \u001b[0mk\u001b[0m\u001b[0;34m,\u001b[0m \u001b[0mtz\u001b[0m\u001b[0;34m=\u001b[0m\u001b[0mgetattr\u001b[0m\u001b[0;34m(\u001b[0m\u001b[0mseries\u001b[0m\u001b[0;34m.\u001b[0m\u001b[0mdtype\u001b[0m\u001b[0;34m,\u001b[0m \u001b[0;34m\"tz\"\u001b[0m\u001b[0;34m,\u001b[0m \u001b[0;32mNone\u001b[0m\u001b[0;34m)\u001b[0m\u001b[0;34m)\u001b[0m\u001b[0;34m\u001b[0m\u001b[0;34m\u001b[0m\u001b[0m\n\u001b[0m\u001b[1;32m   4731\u001b[0m         \u001b[0;32mexcept\u001b[0m \u001b[0mKeyError\u001b[0m \u001b[0;32mas\u001b[0m \u001b[0me1\u001b[0m\u001b[0;34m:\u001b[0m\u001b[0;34m\u001b[0m\u001b[0;34m\u001b[0m\u001b[0m\n\u001b[1;32m   4732\u001b[0m             \u001b[0;32mif\u001b[0m \u001b[0mlen\u001b[0m\u001b[0;34m(\u001b[0m\u001b[0mself\u001b[0m\u001b[0;34m)\u001b[0m \u001b[0;34m>\u001b[0m \u001b[0;36m0\u001b[0m \u001b[0;32mand\u001b[0m \u001b[0;34m(\u001b[0m\u001b[0mself\u001b[0m\u001b[0;34m.\u001b[0m\u001b[0mholds_integer\u001b[0m\u001b[0;34m(\u001b[0m\u001b[0;34m)\u001b[0m \u001b[0;32mor\u001b[0m \u001b[0mself\u001b[0m\u001b[0;34m.\u001b[0m\u001b[0mis_boolean\u001b[0m\u001b[0;34m(\u001b[0m\u001b[0;34m)\u001b[0m\u001b[0;34m)\u001b[0m\u001b[0;34m:\u001b[0m\u001b[0;34m\u001b[0m\u001b[0;34m\u001b[0m\u001b[0m\n",
      "\u001b[0;32mpandas/_libs/index.pyx\u001b[0m in \u001b[0;36mpandas._libs.index.IndexEngine.get_value\u001b[0;34m()\u001b[0m\n",
      "\u001b[0;32mpandas/_libs/index.pyx\u001b[0m in \u001b[0;36mpandas._libs.index.IndexEngine.get_value\u001b[0;34m()\u001b[0m\n",
      "\u001b[0;32mpandas/_libs/index.pyx\u001b[0m in \u001b[0;36mpandas._libs.index.IndexEngine.get_loc\u001b[0;34m()\u001b[0m\n",
      "\u001b[0;32mpandas/_libs/hashtable_class_helper.pxi\u001b[0m in \u001b[0;36mpandas._libs.hashtable.Int64HashTable.get_item\u001b[0;34m()\u001b[0m\n",
      "\u001b[0;32mpandas/_libs/hashtable_class_helper.pxi\u001b[0m in \u001b[0;36mpandas._libs.hashtable.Int64HashTable.get_item\u001b[0;34m()\u001b[0m\n",
      "\u001b[0;31mKeyError\u001b[0m: 68"
     ]
    }
   ],
   "source": [
    "from sklearn.model_selection import train_test_split\n",
    "X_train, X_test, y_train, y_test = train_test_split(attributes_df.score_list.values, attributes_df['538_score'], test_size=0.35, random_state=27)\n",
    "X_valid, X_test, y_valid, y_test = train_test_split(X_test, y_test, test_size=0.52, random_state=27)\n",
    "\n",
    "print(X_train[68])\n",
    "class ClubsDataset(Dataset):\n",
    "    def __init__(self, mode='training', transform=None):\n",
    "        if mode == 'training':\n",
    "            self.X = X_train\n",
    "            self.y = y_train\n",
    "        elif mode == 'validation':\n",
    "            self.X = X_valid\n",
    "            self.y = y_valid\n",
    "        elif mode == 'test':\n",
    "            self.X = X_test\n",
    "            self.y = y_test\n",
    "        else:\n",
    "            raise Exception('Invalid mode!')\n",
    "        print(self.X[68])\n",
    "        \n",
    "    def __len__(self):\n",
    "        return len(self.y)\n",
    "    \n",
    "    def __getitem__(self, index):\n",
    "        return torch.tensor(self.X[index]), self.y[index]\n",
    "\n",
    "train_dataset = ClubsDataset(mode='training')\n",
    "train_dataset.__getitem__(68)"
   ]
  },
  {
   "cell_type": "code",
   "execution_count": 375,
   "metadata": {
    "ExecuteTime": {
     "end_time": "2020-01-10T15:17:09.975917Z",
     "start_time": "2020-01-10T15:17:09.972048Z"
    }
   },
   "outputs": [
    {
     "data": {
      "text/plain": [
       "127"
      ]
     },
     "execution_count": 375,
     "metadata": {},
     "output_type": "execute_result"
    }
   ],
   "source": [
    "y_train"
   ]
  },
  {
   "cell_type": "code",
   "execution_count": 365,
   "metadata": {
    "ExecuteTime": {
     "end_time": "2020-01-10T15:13:35.339046Z",
     "start_time": "2020-01-10T15:13:35.333348Z"
    }
   },
   "outputs": [],
   "source": [
    "# Funções auxiliares para lidar com os parametros\n",
    "\n",
    "def get_trainable(model_params):\n",
    "    return (p for p in model_params if p.requires_grad)\n",
    "\n",
    "def get_frozen(model_params):\n",
    "    return (p for p in model_params if not p.requires_grad)\n",
    "\n",
    "def all_trainable(model_params):\n",
    "    return all(p.requires_grad for p in model_params)\n",
    "\n",
    "def all_frozen(model_params):\n",
    "    return all(not p.requires_grad for p in model_params)\n",
    "\n",
    "def freeze_all(model_params):\n",
    "    for param in model_params:\n",
    "        param.requires_grad = False"
   ]
  },
  {
   "cell_type": "code",
   "execution_count": 380,
   "metadata": {
    "ExecuteTime": {
     "end_time": "2020-01-10T15:20:53.589726Z",
     "start_time": "2020-01-10T15:20:53.586060Z"
    }
   },
   "outputs": [
    {
     "data": {
      "text/plain": [
       "(127, 127)"
      ]
     },
     "execution_count": 380,
     "metadata": {},
     "output_type": "execute_result"
    }
   ],
   "source": [
    "len(train_dataset),len(X_train)"
   ]
  },
  {
   "cell_type": "code",
   "execution_count": 385,
   "metadata": {
    "ExecuteTime": {
     "end_time": "2020-01-10T15:22:20.070988Z",
     "start_time": "2020-01-10T15:22:20.067181Z"
    }
   },
   "outputs": [
    {
     "data": {
      "text/plain": [
       "[76,\n",
       " 74,\n",
       " 74,\n",
       " 73,\n",
       " 73,\n",
       " 72,\n",
       " 72,\n",
       " 72,\n",
       " 72,\n",
       " 71,\n",
       " 71,\n",
       " 70,\n",
       " 70,\n",
       " 69,\n",
       " 69,\n",
       " 68,\n",
       " 67,\n",
       " 67,\n",
       " 67,\n",
       " 67,\n",
       " 67]"
      ]
     },
     "execution_count": 385,
     "metadata": {},
     "output_type": "execute_result"
    }
   ],
   "source": [
    "X_train[68]"
   ]
  },
  {
   "cell_type": "code",
   "execution_count": 366,
   "metadata": {
    "ExecuteTime": {
     "end_time": "2020-01-10T15:13:35.919840Z",
     "start_time": "2020-01-10T15:13:35.913082Z"
    }
   },
   "outputs": [],
   "source": [
    "\n",
    "batch_size = n_clubs\n",
    "\n",
    "train_dataset = ClubsDataset(mode='training')\n",
    "valid_dataset = ClubsDataset(mode='validation')\n",
    "test_dataset = ClubsDataset(mode='test')\n",
    "\n",
    "train_dataloader = DataLoader(train_dataset, batch_size, shuffle=True, num_workers=0)\n",
    "valid_dataloader = DataLoader(valid_dataset, batch_size, shuffle=False, num_workers=0)\n",
    "test_dataloader = DataLoader(test_dataset, batch_size=n_clubs, shuffle=False, num_workers=0)"
   ]
  },
  {
   "cell_type": "code",
   "execution_count": 367,
   "metadata": {
    "ExecuteTime": {
     "end_time": "2020-01-10T15:13:36.405940Z",
     "start_time": "2020-01-10T15:13:36.400686Z"
    }
   },
   "outputs": [],
   "source": [
    "n_hidden1 = 10000\n",
    "n_hidden2 = 1000\n",
    "\n",
    "class MLP(nn.Module):\n",
    "    def __init__(self):\n",
    "        super().__init__()\n",
    "        self.layers = nn.Sequential(\n",
    "            nn.Linear(n_players, n_hidden1),\n",
    "            nn.ReLU(),\n",
    "            nn.Dropout(0.2),\n",
    "            nn.Linear(n_hidden1, n_hidden2),\n",
    "            nn.ReLU(),\n",
    "            nn.Dropout(0.5),\n",
    "            nn.Linear(n_hidden2, 1)\n",
    "        )\n",
    "\n",
    "    def forward(self, x):\n",
    "        # x = x.view(x.size(0), -1)\n",
    "        x = self.layers(x)\n",
    "        return x"
   ]
  },
  {
   "cell_type": "code",
   "execution_count": 369,
   "metadata": {
    "ExecuteTime": {
     "end_time": "2020-01-10T15:13:43.752153Z",
     "start_time": "2020-01-10T15:13:43.708627Z"
    }
   },
   "outputs": [
    {
     "ename": "KeyError",
     "evalue": "68",
     "output_type": "error",
     "traceback": [
      "\u001b[0;31m---------------------------------------------------------------------------\u001b[0m",
      "\u001b[0;31mKeyError\u001b[0m                                  Traceback (most recent call last)",
      "\u001b[0;32m<ipython-input-369-0e4faa69e5fd>\u001b[0m in \u001b[0;36m<module>\u001b[0;34m\u001b[0m\n\u001b[0;32m----> 1\u001b[0;31m \u001b[0;32mfor\u001b[0m \u001b[0mi\u001b[0m\u001b[0;34m,\u001b[0m \u001b[0;34m(\u001b[0m\u001b[0mX\u001b[0m\u001b[0;34m,\u001b[0m \u001b[0my\u001b[0m\u001b[0;34m)\u001b[0m \u001b[0;32min\u001b[0m \u001b[0menumerate\u001b[0m\u001b[0;34m(\u001b[0m\u001b[0mtrain_dataloader\u001b[0m\u001b[0;34m)\u001b[0m\u001b[0;34m:\u001b[0m\u001b[0;34m\u001b[0m\u001b[0;34m\u001b[0m\u001b[0m\n\u001b[0m\u001b[1;32m      2\u001b[0m     \u001b[0mprint\u001b[0m\u001b[0;34m(\u001b[0m\u001b[0mi\u001b[0m\u001b[0;34m,\u001b[0m \u001b[0mX\u001b[0m\u001b[0;34m,\u001b[0m \u001b[0my\u001b[0m\u001b[0;34m)\u001b[0m\u001b[0;34m\u001b[0m\u001b[0;34m\u001b[0m\u001b[0m\n",
      "\u001b[0;32m~/anaconda3/lib/python3.7/site-packages/torch/utils/data/dataloader.py\u001b[0m in \u001b[0;36m__next__\u001b[0;34m(self)\u001b[0m\n\u001b[1;32m    344\u001b[0m     \u001b[0;32mdef\u001b[0m \u001b[0m__next__\u001b[0m\u001b[0;34m(\u001b[0m\u001b[0mself\u001b[0m\u001b[0;34m)\u001b[0m\u001b[0;34m:\u001b[0m\u001b[0;34m\u001b[0m\u001b[0;34m\u001b[0m\u001b[0m\n\u001b[1;32m    345\u001b[0m         \u001b[0mindex\u001b[0m \u001b[0;34m=\u001b[0m \u001b[0mself\u001b[0m\u001b[0;34m.\u001b[0m\u001b[0m_next_index\u001b[0m\u001b[0;34m(\u001b[0m\u001b[0;34m)\u001b[0m  \u001b[0;31m# may raise StopIteration\u001b[0m\u001b[0;34m\u001b[0m\u001b[0;34m\u001b[0m\u001b[0m\n\u001b[0;32m--> 346\u001b[0;31m         \u001b[0mdata\u001b[0m \u001b[0;34m=\u001b[0m \u001b[0mself\u001b[0m\u001b[0;34m.\u001b[0m\u001b[0m_dataset_fetcher\u001b[0m\u001b[0;34m.\u001b[0m\u001b[0mfetch\u001b[0m\u001b[0;34m(\u001b[0m\u001b[0mindex\u001b[0m\u001b[0;34m)\u001b[0m  \u001b[0;31m# may raise StopIteration\u001b[0m\u001b[0;34m\u001b[0m\u001b[0;34m\u001b[0m\u001b[0m\n\u001b[0m\u001b[1;32m    347\u001b[0m         \u001b[0;32mif\u001b[0m \u001b[0mself\u001b[0m\u001b[0;34m.\u001b[0m\u001b[0m_pin_memory\u001b[0m\u001b[0;34m:\u001b[0m\u001b[0;34m\u001b[0m\u001b[0;34m\u001b[0m\u001b[0m\n\u001b[1;32m    348\u001b[0m             \u001b[0mdata\u001b[0m \u001b[0;34m=\u001b[0m \u001b[0m_utils\u001b[0m\u001b[0;34m.\u001b[0m\u001b[0mpin_memory\u001b[0m\u001b[0;34m.\u001b[0m\u001b[0mpin_memory\u001b[0m\u001b[0;34m(\u001b[0m\u001b[0mdata\u001b[0m\u001b[0;34m)\u001b[0m\u001b[0;34m\u001b[0m\u001b[0;34m\u001b[0m\u001b[0m\n",
      "\u001b[0;32m~/anaconda3/lib/python3.7/site-packages/torch/utils/data/_utils/fetch.py\u001b[0m in \u001b[0;36mfetch\u001b[0;34m(self, possibly_batched_index)\u001b[0m\n\u001b[1;32m     42\u001b[0m     \u001b[0;32mdef\u001b[0m \u001b[0mfetch\u001b[0m\u001b[0;34m(\u001b[0m\u001b[0mself\u001b[0m\u001b[0;34m,\u001b[0m \u001b[0mpossibly_batched_index\u001b[0m\u001b[0;34m)\u001b[0m\u001b[0;34m:\u001b[0m\u001b[0;34m\u001b[0m\u001b[0;34m\u001b[0m\u001b[0m\n\u001b[1;32m     43\u001b[0m         \u001b[0;32mif\u001b[0m \u001b[0mself\u001b[0m\u001b[0;34m.\u001b[0m\u001b[0mauto_collation\u001b[0m\u001b[0;34m:\u001b[0m\u001b[0;34m\u001b[0m\u001b[0;34m\u001b[0m\u001b[0m\n\u001b[0;32m---> 44\u001b[0;31m             \u001b[0mdata\u001b[0m \u001b[0;34m=\u001b[0m \u001b[0;34m[\u001b[0m\u001b[0mself\u001b[0m\u001b[0;34m.\u001b[0m\u001b[0mdataset\u001b[0m\u001b[0;34m[\u001b[0m\u001b[0midx\u001b[0m\u001b[0;34m]\u001b[0m \u001b[0;32mfor\u001b[0m \u001b[0midx\u001b[0m \u001b[0;32min\u001b[0m \u001b[0mpossibly_batched_index\u001b[0m\u001b[0;34m]\u001b[0m\u001b[0;34m\u001b[0m\u001b[0;34m\u001b[0m\u001b[0m\n\u001b[0m\u001b[1;32m     45\u001b[0m         \u001b[0;32melse\u001b[0m\u001b[0;34m:\u001b[0m\u001b[0;34m\u001b[0m\u001b[0;34m\u001b[0m\u001b[0m\n\u001b[1;32m     46\u001b[0m             \u001b[0mdata\u001b[0m \u001b[0;34m=\u001b[0m \u001b[0mself\u001b[0m\u001b[0;34m.\u001b[0m\u001b[0mdataset\u001b[0m\u001b[0;34m[\u001b[0m\u001b[0mpossibly_batched_index\u001b[0m\u001b[0;34m]\u001b[0m\u001b[0;34m\u001b[0m\u001b[0;34m\u001b[0m\u001b[0m\n",
      "\u001b[0;32m~/anaconda3/lib/python3.7/site-packages/torch/utils/data/_utils/fetch.py\u001b[0m in \u001b[0;36m<listcomp>\u001b[0;34m(.0)\u001b[0m\n\u001b[1;32m     42\u001b[0m     \u001b[0;32mdef\u001b[0m \u001b[0mfetch\u001b[0m\u001b[0;34m(\u001b[0m\u001b[0mself\u001b[0m\u001b[0;34m,\u001b[0m \u001b[0mpossibly_batched_index\u001b[0m\u001b[0;34m)\u001b[0m\u001b[0;34m:\u001b[0m\u001b[0;34m\u001b[0m\u001b[0;34m\u001b[0m\u001b[0m\n\u001b[1;32m     43\u001b[0m         \u001b[0;32mif\u001b[0m \u001b[0mself\u001b[0m\u001b[0;34m.\u001b[0m\u001b[0mauto_collation\u001b[0m\u001b[0;34m:\u001b[0m\u001b[0;34m\u001b[0m\u001b[0;34m\u001b[0m\u001b[0m\n\u001b[0;32m---> 44\u001b[0;31m             \u001b[0mdata\u001b[0m \u001b[0;34m=\u001b[0m \u001b[0;34m[\u001b[0m\u001b[0mself\u001b[0m\u001b[0;34m.\u001b[0m\u001b[0mdataset\u001b[0m\u001b[0;34m[\u001b[0m\u001b[0midx\u001b[0m\u001b[0;34m]\u001b[0m \u001b[0;32mfor\u001b[0m \u001b[0midx\u001b[0m \u001b[0;32min\u001b[0m \u001b[0mpossibly_batched_index\u001b[0m\u001b[0;34m]\u001b[0m\u001b[0;34m\u001b[0m\u001b[0;34m\u001b[0m\u001b[0m\n\u001b[0m\u001b[1;32m     45\u001b[0m         \u001b[0;32melse\u001b[0m\u001b[0;34m:\u001b[0m\u001b[0;34m\u001b[0m\u001b[0;34m\u001b[0m\u001b[0m\n\u001b[1;32m     46\u001b[0m             \u001b[0mdata\u001b[0m \u001b[0;34m=\u001b[0m \u001b[0mself\u001b[0m\u001b[0;34m.\u001b[0m\u001b[0mdataset\u001b[0m\u001b[0;34m[\u001b[0m\u001b[0mpossibly_batched_index\u001b[0m\u001b[0;34m]\u001b[0m\u001b[0;34m\u001b[0m\u001b[0;34m\u001b[0m\u001b[0m\n",
      "\u001b[0;32m<ipython-input-364-51d50388cb85>\u001b[0m in \u001b[0;36m__getitem__\u001b[0;34m(self, index)\u001b[0m\n\u001b[1;32m     22\u001b[0m \u001b[0;34m\u001b[0m\u001b[0m\n\u001b[1;32m     23\u001b[0m     \u001b[0;32mdef\u001b[0m \u001b[0m__getitem__\u001b[0m\u001b[0;34m(\u001b[0m\u001b[0mself\u001b[0m\u001b[0;34m,\u001b[0m \u001b[0mindex\u001b[0m\u001b[0;34m)\u001b[0m\u001b[0;34m:\u001b[0m\u001b[0;34m\u001b[0m\u001b[0;34m\u001b[0m\u001b[0m\n\u001b[0;32m---> 24\u001b[0;31m         \u001b[0;32mreturn\u001b[0m \u001b[0mtorch\u001b[0m\u001b[0;34m.\u001b[0m\u001b[0mtensor\u001b[0m\u001b[0;34m(\u001b[0m\u001b[0mself\u001b[0m\u001b[0;34m.\u001b[0m\u001b[0mX\u001b[0m\u001b[0;34m[\u001b[0m\u001b[0mindex\u001b[0m\u001b[0;34m]\u001b[0m\u001b[0;34m)\u001b[0m\u001b[0;34m,\u001b[0m \u001b[0mself\u001b[0m\u001b[0;34m.\u001b[0m\u001b[0my\u001b[0m\u001b[0;34m[\u001b[0m\u001b[0mindex\u001b[0m\u001b[0;34m]\u001b[0m\u001b[0;34m\u001b[0m\u001b[0;34m\u001b[0m\u001b[0m\n\u001b[0m",
      "\u001b[0;32m~/anaconda3/lib/python3.7/site-packages/pandas/core/series.py\u001b[0m in \u001b[0;36m__getitem__\u001b[0;34m(self, key)\u001b[0m\n\u001b[1;32m   1066\u001b[0m         \u001b[0mkey\u001b[0m \u001b[0;34m=\u001b[0m \u001b[0mcom\u001b[0m\u001b[0;34m.\u001b[0m\u001b[0mapply_if_callable\u001b[0m\u001b[0;34m(\u001b[0m\u001b[0mkey\u001b[0m\u001b[0;34m,\u001b[0m \u001b[0mself\u001b[0m\u001b[0;34m)\u001b[0m\u001b[0;34m\u001b[0m\u001b[0;34m\u001b[0m\u001b[0m\n\u001b[1;32m   1067\u001b[0m         \u001b[0;32mtry\u001b[0m\u001b[0;34m:\u001b[0m\u001b[0;34m\u001b[0m\u001b[0;34m\u001b[0m\u001b[0m\n\u001b[0;32m-> 1068\u001b[0;31m             \u001b[0mresult\u001b[0m \u001b[0;34m=\u001b[0m \u001b[0mself\u001b[0m\u001b[0;34m.\u001b[0m\u001b[0mindex\u001b[0m\u001b[0;34m.\u001b[0m\u001b[0mget_value\u001b[0m\u001b[0;34m(\u001b[0m\u001b[0mself\u001b[0m\u001b[0;34m,\u001b[0m \u001b[0mkey\u001b[0m\u001b[0;34m)\u001b[0m\u001b[0;34m\u001b[0m\u001b[0;34m\u001b[0m\u001b[0m\n\u001b[0m\u001b[1;32m   1069\u001b[0m \u001b[0;34m\u001b[0m\u001b[0m\n\u001b[1;32m   1070\u001b[0m             \u001b[0;32mif\u001b[0m \u001b[0;32mnot\u001b[0m \u001b[0mis_scalar\u001b[0m\u001b[0;34m(\u001b[0m\u001b[0mresult\u001b[0m\u001b[0;34m)\u001b[0m\u001b[0;34m:\u001b[0m\u001b[0;34m\u001b[0m\u001b[0;34m\u001b[0m\u001b[0m\n",
      "\u001b[0;32m~/anaconda3/lib/python3.7/site-packages/pandas/core/indexes/base.py\u001b[0m in \u001b[0;36mget_value\u001b[0;34m(self, series, key)\u001b[0m\n\u001b[1;32m   4728\u001b[0m         \u001b[0mk\u001b[0m \u001b[0;34m=\u001b[0m \u001b[0mself\u001b[0m\u001b[0;34m.\u001b[0m\u001b[0m_convert_scalar_indexer\u001b[0m\u001b[0;34m(\u001b[0m\u001b[0mk\u001b[0m\u001b[0;34m,\u001b[0m \u001b[0mkind\u001b[0m\u001b[0;34m=\u001b[0m\u001b[0;34m\"getitem\"\u001b[0m\u001b[0;34m)\u001b[0m\u001b[0;34m\u001b[0m\u001b[0;34m\u001b[0m\u001b[0m\n\u001b[1;32m   4729\u001b[0m         \u001b[0;32mtry\u001b[0m\u001b[0;34m:\u001b[0m\u001b[0;34m\u001b[0m\u001b[0;34m\u001b[0m\u001b[0m\n\u001b[0;32m-> 4730\u001b[0;31m             \u001b[0;32mreturn\u001b[0m \u001b[0mself\u001b[0m\u001b[0;34m.\u001b[0m\u001b[0m_engine\u001b[0m\u001b[0;34m.\u001b[0m\u001b[0mget_value\u001b[0m\u001b[0;34m(\u001b[0m\u001b[0ms\u001b[0m\u001b[0;34m,\u001b[0m \u001b[0mk\u001b[0m\u001b[0;34m,\u001b[0m \u001b[0mtz\u001b[0m\u001b[0;34m=\u001b[0m\u001b[0mgetattr\u001b[0m\u001b[0;34m(\u001b[0m\u001b[0mseries\u001b[0m\u001b[0;34m.\u001b[0m\u001b[0mdtype\u001b[0m\u001b[0;34m,\u001b[0m \u001b[0;34m\"tz\"\u001b[0m\u001b[0;34m,\u001b[0m \u001b[0;32mNone\u001b[0m\u001b[0;34m)\u001b[0m\u001b[0;34m)\u001b[0m\u001b[0;34m\u001b[0m\u001b[0;34m\u001b[0m\u001b[0m\n\u001b[0m\u001b[1;32m   4731\u001b[0m         \u001b[0;32mexcept\u001b[0m \u001b[0mKeyError\u001b[0m \u001b[0;32mas\u001b[0m \u001b[0me1\u001b[0m\u001b[0;34m:\u001b[0m\u001b[0;34m\u001b[0m\u001b[0;34m\u001b[0m\u001b[0m\n\u001b[1;32m   4732\u001b[0m             \u001b[0;32mif\u001b[0m \u001b[0mlen\u001b[0m\u001b[0;34m(\u001b[0m\u001b[0mself\u001b[0m\u001b[0;34m)\u001b[0m \u001b[0;34m>\u001b[0m \u001b[0;36m0\u001b[0m \u001b[0;32mand\u001b[0m \u001b[0;34m(\u001b[0m\u001b[0mself\u001b[0m\u001b[0;34m.\u001b[0m\u001b[0mholds_integer\u001b[0m\u001b[0;34m(\u001b[0m\u001b[0;34m)\u001b[0m \u001b[0;32mor\u001b[0m \u001b[0mself\u001b[0m\u001b[0;34m.\u001b[0m\u001b[0mis_boolean\u001b[0m\u001b[0;34m(\u001b[0m\u001b[0;34m)\u001b[0m\u001b[0;34m)\u001b[0m\u001b[0;34m:\u001b[0m\u001b[0;34m\u001b[0m\u001b[0;34m\u001b[0m\u001b[0m\n",
      "\u001b[0;32mpandas/_libs/index.pyx\u001b[0m in \u001b[0;36mpandas._libs.index.IndexEngine.get_value\u001b[0;34m()\u001b[0m\n",
      "\u001b[0;32mpandas/_libs/index.pyx\u001b[0m in \u001b[0;36mpandas._libs.index.IndexEngine.get_value\u001b[0;34m()\u001b[0m\n",
      "\u001b[0;32mpandas/_libs/index.pyx\u001b[0m in \u001b[0;36mpandas._libs.index.IndexEngine.get_loc\u001b[0;34m()\u001b[0m\n",
      "\u001b[0;32mpandas/_libs/hashtable_class_helper.pxi\u001b[0m in \u001b[0;36mpandas._libs.hashtable.Int64HashTable.get_item\u001b[0;34m()\u001b[0m\n",
      "\u001b[0;32mpandas/_libs/hashtable_class_helper.pxi\u001b[0m in \u001b[0;36mpandas._libs.hashtable.Int64HashTable.get_item\u001b[0;34m()\u001b[0m\n",
      "\u001b[0;31mKeyError\u001b[0m: 68"
     ]
    }
   ],
   "source": [
    "for i, (X, y) in enumerate(train_dataloader):\n",
    "    print(i, X, y)"
   ]
  },
  {
   "cell_type": "code",
   "execution_count": 393,
   "metadata": {
    "ExecuteTime": {
     "end_time": "2020-01-10T15:28:40.911071Z",
     "start_time": "2020-01-10T15:28:40.811906Z"
    }
   },
   "outputs": [
    {
     "ename": "AttributeError",
     "evalue": "'DataLoader' object has no attribute 'X'",
     "output_type": "error",
     "traceback": [
      "\u001b[0;31m---------------------------------------------------------------------------\u001b[0m",
      "\u001b[0;31mAttributeError\u001b[0m                            Traceback (most recent call last)",
      "\u001b[0;32m<ipython-input-393-b8082ae60012>\u001b[0m in \u001b[0;36m<module>\u001b[0;34m\u001b[0m\n\u001b[1;32m     19\u001b[0m     \u001b[0;31m#correct = 0\u001b[0m\u001b[0;34m\u001b[0m\u001b[0;34m\u001b[0m\u001b[0;34m\u001b[0m\u001b[0m\n\u001b[1;32m     20\u001b[0m \u001b[0;34m\u001b[0m\u001b[0m\n\u001b[0;32m---> 21\u001b[0;31m     \u001b[0;32mfor\u001b[0m \u001b[0mi\u001b[0m\u001b[0;34m,\u001b[0m \u001b[0;34m(\u001b[0m\u001b[0mX\u001b[0m\u001b[0;34m,\u001b[0m \u001b[0my\u001b[0m\u001b[0;34m)\u001b[0m \u001b[0;32min\u001b[0m \u001b[0menumerate\u001b[0m\u001b[0;34m(\u001b[0m\u001b[0mzip\u001b[0m\u001b[0;34m(\u001b[0m\u001b[0mtrain_dataloader\u001b[0m\u001b[0;34m.\u001b[0m\u001b[0mX\u001b[0m\u001b[0;34m,\u001b[0m\u001b[0mtrain_dataloader\u001b[0m\u001b[0;34m.\u001b[0m\u001b[0my\u001b[0m\u001b[0;34m)\u001b[0m\u001b[0;34m)\u001b[0m\u001b[0;34m:\u001b[0m\u001b[0;34m\u001b[0m\u001b[0;34m\u001b[0m\u001b[0m\n\u001b[0m\u001b[1;32m     22\u001b[0m         \u001b[0my_\u001b[0m \u001b[0;34m=\u001b[0m \u001b[0mmodel\u001b[0m\u001b[0;34m(\u001b[0m\u001b[0mX\u001b[0m\u001b[0;34m.\u001b[0m\u001b[0mfloat\u001b[0m\u001b[0;34m(\u001b[0m\u001b[0;34m)\u001b[0m\u001b[0;34m)\u001b[0m\u001b[0;34m\u001b[0m\u001b[0;34m\u001b[0m\u001b[0m\n\u001b[1;32m     23\u001b[0m         \u001b[0moptimizer\u001b[0m\u001b[0;34m.\u001b[0m\u001b[0mzero_grad\u001b[0m\u001b[0;34m(\u001b[0m\u001b[0;34m)\u001b[0m\u001b[0;34m\u001b[0m\u001b[0;34m\u001b[0m\u001b[0m\n",
      "\u001b[0;31mAttributeError\u001b[0m: 'DataLoader' object has no attribute 'X'"
     ]
    }
   ],
   "source": [
    "# del model, X, y, y_, loss\n",
    "\n",
    "lr = 0.0002\n",
    "\n",
    "model = MLP()\n",
    "criterion = nn.MSELoss()\n",
    "optimizer = torch.optim.Adam(get_trainable(model.parameters()), lr=lr)\n",
    "\n",
    "max_valid_acc = 0.\n",
    "n = 0\n",
    "\n",
    "n_max = 100\n",
    "\n",
    "while n < n_max:\n",
    "    # Train\n",
    "    model.train();\n",
    "    \n",
    "    running_loss = 0.\n",
    "    #correct = 0\n",
    "    \n",
    "    for i, (X, y) in enumerate(train_dataloader):\n",
    "        y_ = model(X.float())\n",
    "        optimizer.zero_grad()\n",
    "        loss = criterion(y_, y)\n",
    "        loss.backward()\n",
    "        optimizer.step()\n",
    "        \n",
    "        # Statistics\n",
    "        _, y_label_ = torch.max(y_, 1)\n",
    "        running_loss += loss.item()*batch_size\n",
    "\n",
    "    train_loss = running_loss / len(train_dataloader.dataset)\n",
    "    \n",
    "    print(f'--------- Epoch: {n} ---------')\n",
    "    print(f'Train Loss: {round(train_loss,3)}')\n",
    "\n",
    "    \n",
    "    # Eval\n",
    "    model.eval();\n",
    "    \n",
    "    running_loss = 0.\n",
    "    #correct = 0\n",
    "    \n",
    "    with torch.no_grad():\n",
    "        for i, (X, y) in enumerate(valid_dataloader):\n",
    "            y_ = model(X.float());\n",
    "        \n",
    "            # Statistics\n",
    "            _, y_label_ = torch.max(y_, 1)\n",
    "            loss = criterion(y_, y)\n",
    "            running_loss += loss.item() * X.shape[0]\n",
    "            \n",
    "        valid_loss = running_loss / len(valid_dataloader.dataset)\n",
    "        \n",
    "        print(f'Valid Loss: {round(valid_loss,3)}')\n",
    "         \n",
    "    n += 1"
   ]
  },
  {
   "cell_type": "code",
   "execution_count": 24,
   "metadata": {
    "ExecuteTime": {
     "end_time": "2020-01-10T14:12:38.831546Z",
     "start_time": "2020-01-10T14:12:38.818632Z"
    }
   },
   "outputs": [
    {
     "name": "stdout",
     "output_type": "stream",
     "text": [
      "0\n"
     ]
    },
    {
     "name": "stderr",
     "output_type": "stream",
     "text": [
      "/Users/Saibo/anaconda3/lib/python3.7/site-packages/torch/nn/modules/loss.py:431: UserWarning: Using a target size (torch.Size([36])) that is different to the input size (torch.Size([36, 1])). This will likely lead to incorrect results due to broadcasting. Please ensure they have the same size.\n",
      "  return F.mse_loss(input, target, reduction=self.reduction)\n"
     ]
    }
   ],
   "source": [
    "# Final accuracy test\n",
    "model.eval();\n",
    "\n",
    "running_loss = 0.\n",
    "correct = 0\n",
    "\n",
    "with torch.no_grad():\n",
    "    for i, (X, y) in enumerate(test_dataloader):\n",
    "        print(i)\n",
    "        y_ = model(X.float());\n",
    "        # Statistics\n",
    "\n",
    "        loss = criterion(y_, y)\n",
    "#         plt.hist(loss)\n",
    "#         running_loss += loss.item() * X.shape[0]\n",
    "\n",
    "#     test_loss = running_loss / len(test_dataloader.dataset)\n",
    "#     test_acc = 100 * correct/len(test_dataloader.dataset)\n",
    "\n",
    "#     print(f'Test Loss: {round(test_loss,3)}')\n",
    "#     print(f'Test Acc:  {round(test_acc,1)} %')"
   ]
  },
  {
   "cell_type": "code",
   "execution_count": 25,
   "metadata": {
    "ExecuteTime": {
     "end_time": "2020-01-10T14:12:38.990929Z",
     "start_time": "2020-01-10T14:12:38.833473Z"
    }
   },
   "outputs": [
    {
     "data": {
      "text/plain": [
       "(array([ 2.,  1.,  1.,  0.,  2.,  1.,  1.,  3.,  5., 20.]),\n",
       " array([-22.46023746, -19.89550796, -17.33077847, -14.76604897,\n",
       "        -12.20131947,  -9.63658997,  -7.07186048,  -4.50713098,\n",
       "         -1.94240148,   0.62232802,   3.18705751]),\n",
       " <a list of 10 Patch objects>)"
      ]
     },
     "execution_count": 25,
     "metadata": {},
     "output_type": "execute_result"
    },
    {
     "data": {
      "image/png": "[encoded data removed]",
      "text/plain": [
       "<Figure size 432x288 with 1 Axes>"
      ]
     },
     "metadata": {
      "needs_background": "light"
     },
     "output_type": "display_data"
    }
   ],
   "source": [
    "plt.hist(y_.flatten().numpy()- y_test)"
   ]
  },
  {
   "cell_type": "code",
   "execution_count": 26,
   "metadata": {
    "ExecuteTime": {
     "end_time": "2020-01-10T14:12:39.005104Z",
     "start_time": "2020-01-10T14:12:38.992353Z"
    }
   },
   "outputs": [
    {
     "name": "stdout",
     "output_type": "stream",
     "text": [
      "tensor(59.3416)\n"
     ]
    }
   ],
   "source": [
    "print(loss)"
   ]
  },
  {
   "cell_type": "code",
   "execution_count": null,
   "metadata": {},
   "outputs": [],
   "source": []
  },
  {
   "cell_type": "code",
   "execution_count": null,
   "metadata": {},
   "outputs": [],
   "source": []
  }
 ],
 "metadata": {
  "kernelspec": {
   "display_name": "Python 3",
   "language": "python",
   "name": "python3"
  },
  "language_info": {
   "codemirror_mode": {
    "name": "ipython",
    "version": 3
   },
   "file_extension": ".py",
   "mimetype": "text/x-python",
   "name": "python",
   "nbconvert_exporter": "python",
   "pygments_lexer": "ipython3",
   "version": "3.7.3"
  }
 },
 "nbformat": 4,
 "nbformat_minor": 2
}
