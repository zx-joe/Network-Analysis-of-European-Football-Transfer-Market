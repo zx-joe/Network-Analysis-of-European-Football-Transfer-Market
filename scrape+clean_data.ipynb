{
 "cells": [
  {
   "cell_type": "code",
   "execution_count": 13,
   "metadata": {
    "ExecuteTime": {
     "end_time": "2020-01-10T00:42:18.665618Z",
     "start_time": "2020-01-10T00:42:18.610420Z"
    }
   },
   "outputs": [],
   "source": [
    "from requests import get\n",
    "from bs4 import BeautifulSoup\n",
    "from html.parser import HTMLParser\n",
    "import pandas as pd\n",
    "import numpy as np\n",
    "import pickle \n"
   ]
  },
  {
   "cell_type": "markdown",
   "metadata": {},
   "source": [
    "## Scrape data"
   ]
  },
  {
   "cell_type": "code",
   "execution_count": 55,
   "metadata": {
    "ExecuteTime": {
     "end_time": "2020-01-10T13:22:21.447569Z",
     "start_time": "2020-01-10T13:22:19.834654Z"
    }
   },
   "outputs": [],
   "source": [
    "club_power_index = get('https://projects.fivethirtyeight.com/global-club-soccer-rankings/', 'lxml')\n",
    "\n",
    "\n",
    "''' Grabbing the country names, scores and ranks '''\n",
    "\n",
    "club_power_index = BeautifulSoup(club_power_index.text, 'html.parser')\n",
    "\n",
    "\n",
    "team_list=[p.text for p in club_power_index.findAll('div', attrs={'class':'name'})] \n",
    "score_list=[p.text for p in club_power_index.findAll('td', attrs={'class':'num'}) if len(p.text)>3] \n",
    "league_list=[p.text.strip() for p in club_power_index.findAll('td', attrs={'class':'league drop-5'}) ] \n",
    "country_list=[p.text.strip() for p in club_power_index.findAll('td', attrs={'class':'country drop-1'}) ] \n"
   ]
  },
  {
   "cell_type": "code",
   "execution_count": 56,
   "metadata": {
    "ExecuteTime": {
     "end_time": "2020-01-10T13:22:21.452085Z",
     "start_time": "2020-01-10T13:22:21.448943Z"
    }
   },
   "outputs": [],
   "source": [
    "team_list=team_list[:600]\n",
    "score_list=score_list[:600]\n",
    "league_list=league_list[:600]\n",
    "country_list=country_list[:600]\n"
   ]
  },
  {
   "cell_type": "code",
   "execution_count": 57,
   "metadata": {
    "ExecuteTime": {
     "end_time": "2020-01-10T13:22:21.909449Z",
     "start_time": "2020-01-10T13:22:21.898676Z"
    }
   },
   "outputs": [
    {
     "data": {
      "text/html": [
       "<div>\n",
       "<style scoped>\n",
       "    .dataframe tbody tr th:only-of-type {\n",
       "        vertical-align: middle;\n",
       "    }\n",
       "\n",
       "    .dataframe tbody tr th {\n",
       "        vertical-align: top;\n",
       "    }\n",
       "\n",
       "    .dataframe thead th {\n",
       "        text-align: right;\n",
       "    }\n",
       "</style>\n",
       "<table border=\"1\" class=\"dataframe\">\n",
       "  <thead>\n",
       "    <tr style=\"text-align: right;\">\n",
       "      <th></th>\n",
       "      <th>score</th>\n",
       "      <th>league</th>\n",
       "      <th>country</th>\n",
       "    </tr>\n",
       "  </thead>\n",
       "  <tbody>\n",
       "    <tr>\n",
       "      <td>Liverpool</td>\n",
       "      <td>94.1</td>\n",
       "      <td>Premier League</td>\n",
       "      <td>England</td>\n",
       "    </tr>\n",
       "    <tr>\n",
       "      <td>Man. City</td>\n",
       "      <td>93.9</td>\n",
       "      <td>Premier League</td>\n",
       "      <td>England</td>\n",
       "    </tr>\n",
       "    <tr>\n",
       "      <td>Bayern Munich</td>\n",
       "      <td>93.4</td>\n",
       "      <td>Bundesliga</td>\n",
       "      <td>Germany</td>\n",
       "    </tr>\n",
       "    <tr>\n",
       "      <td>PSG</td>\n",
       "      <td>90.5</td>\n",
       "      <td>Ligue 1</td>\n",
       "      <td>France</td>\n",
       "    </tr>\n",
       "    <tr>\n",
       "      <td>Real Madrid</td>\n",
       "      <td>90.1</td>\n",
       "      <td>La Liga</td>\n",
       "      <td>Spain</td>\n",
       "    </tr>\n",
       "    <tr>\n",
       "      <td>Barcelona</td>\n",
       "      <td>89.0</td>\n",
       "      <td>La Liga</td>\n",
       "      <td>Spain</td>\n",
       "    </tr>\n",
       "    <tr>\n",
       "      <td>RB Leipzig</td>\n",
       "      <td>86.3</td>\n",
       "      <td>Bundesliga</td>\n",
       "      <td>Germany</td>\n",
       "    </tr>\n",
       "    <tr>\n",
       "      <td>Atlético Madrid</td>\n",
       "      <td>86.1</td>\n",
       "      <td>La Liga</td>\n",
       "      <td>Spain</td>\n",
       "    </tr>\n",
       "    <tr>\n",
       "      <td>Chelsea</td>\n",
       "      <td>85.0</td>\n",
       "      <td>Premier League</td>\n",
       "      <td>England</td>\n",
       "    </tr>\n",
       "    <tr>\n",
       "      <td>Juventus</td>\n",
       "      <td>85.0</td>\n",
       "      <td>Serie A</td>\n",
       "      <td>Italy</td>\n",
       "    </tr>\n",
       "  </tbody>\n",
       "</table>\n",
       "</div>"
      ],
      "text/plain": [
       "                score          league  country\n",
       "Liverpool        94.1  Premier League  England\n",
       "Man. City        93.9  Premier League  England\n",
       "Bayern Munich    93.4      Bundesliga  Germany\n",
       "PSG              90.5         Ligue 1   France\n",
       "Real Madrid      90.1         La Liga    Spain\n",
       "Barcelona        89.0         La Liga    Spain\n",
       "RB Leipzig       86.3      Bundesliga  Germany\n",
       "Atlético Madrid  86.1         La Liga    Spain\n",
       "Chelsea          85.0  Premier League  England\n",
       "Juventus         85.0         Serie A    Italy"
      ]
     },
     "execution_count": 57,
     "metadata": {},
     "output_type": "execute_result"
    }
   ],
   "source": [
    "club_score_df=pd.DataFrame(list(zip(score_list, league_list, country_list)),\n",
    "             index=team_list, columns=[\"score\", \"league\", \"country\"])\n",
    "club_score_df.head(10)"
   ]
  },
  {
   "cell_type": "markdown",
   "metadata": {},
   "source": [
    "## Clean raw data"
   ]
  },
  {
   "cell_type": "code",
   "execution_count": 58,
   "metadata": {
    "ExecuteTime": {
     "end_time": "2020-01-10T13:22:22.857333Z",
     "start_time": "2020-01-10T13:22:22.846142Z"
    }
   },
   "outputs": [],
   "source": [
    "club_score_df.reset_index(level=0, inplace=True)\n",
    "club_score_df.rename(columns={'index':'club'}, inplace=True)"
   ]
  },
  {
   "cell_type": "code",
   "execution_count": 59,
   "metadata": {
    "ExecuteTime": {
     "end_time": "2020-01-10T13:22:23.327667Z",
     "start_time": "2020-01-10T13:22:23.318769Z"
    }
   },
   "outputs": [],
   "source": [
    "pickle.dump(club_score_df[['club','score']], open('./temporary_pkl/club_score_df.pkl', 'wb'))"
   ]
  },
  {
   "cell_type": "code",
   "execution_count": 60,
   "metadata": {
    "ExecuteTime": {
     "end_time": "2020-01-10T13:22:23.775783Z",
     "start_time": "2020-01-10T13:22:23.767534Z"
    }
   },
   "outputs": [],
   "source": [
    "# keep only teams in 7 major european leagues \n",
    "# we find that Austrian top soccer league is also named Bundasliga and Russian's league named \n",
    "# Premier League. To avoid ambiguity, we use country as a selection criteria\n",
    "\n",
    "\n",
    "mask2=club_score_df['country'].isin(['England', 'Germany', 'France', 'Spain', 'Italy', 'Netherlands',\n",
    "       'Portugal'])\n",
    "\n",
    "club_score_df=club_score_df[mask2]\n",
    "\n",
    "club_score_df['score']=pd.to_numeric(club_score_df['score'])\n",
    "\n"
   ]
  },
  {
   "cell_type": "code",
   "execution_count": 61,
   "metadata": {
    "ExecuteTime": {
     "end_time": "2020-01-10T13:22:24.429474Z",
     "start_time": "2020-01-10T13:22:24.416699Z"
    }
   },
   "outputs": [
    {
     "data": {
      "text/html": [
       "<div>\n",
       "<style scoped>\n",
       "    .dataframe tbody tr th:only-of-type {\n",
       "        vertical-align: middle;\n",
       "    }\n",
       "\n",
       "    .dataframe tbody tr th {\n",
       "        vertical-align: top;\n",
       "    }\n",
       "\n",
       "    .dataframe thead th {\n",
       "        text-align: right;\n",
       "    }\n",
       "</style>\n",
       "<table border=\"1\" class=\"dataframe\">\n",
       "  <thead>\n",
       "    <tr style=\"text-align: right;\">\n",
       "      <th></th>\n",
       "      <th>club</th>\n",
       "      <th>score</th>\n",
       "      <th>league</th>\n",
       "      <th>country</th>\n",
       "    </tr>\n",
       "  </thead>\n",
       "  <tbody>\n",
       "    <tr>\n",
       "      <td>0</td>\n",
       "      <td>Liverpool</td>\n",
       "      <td>94.1</td>\n",
       "      <td>Premier League</td>\n",
       "      <td>England</td>\n",
       "    </tr>\n",
       "    <tr>\n",
       "      <td>1</td>\n",
       "      <td>Man. City</td>\n",
       "      <td>93.9</td>\n",
       "      <td>Premier League</td>\n",
       "      <td>England</td>\n",
       "    </tr>\n",
       "    <tr>\n",
       "      <td>2</td>\n",
       "      <td>Bayern Munich</td>\n",
       "      <td>93.4</td>\n",
       "      <td>Bundesliga</td>\n",
       "      <td>Germany</td>\n",
       "    </tr>\n",
       "    <tr>\n",
       "      <td>3</td>\n",
       "      <td>PSG</td>\n",
       "      <td>90.5</td>\n",
       "      <td>Ligue 1</td>\n",
       "      <td>France</td>\n",
       "    </tr>\n",
       "    <tr>\n",
       "      <td>4</td>\n",
       "      <td>Real Madrid</td>\n",
       "      <td>90.1</td>\n",
       "      <td>La Liga</td>\n",
       "      <td>Spain</td>\n",
       "    </tr>\n",
       "    <tr>\n",
       "      <td>...</td>\n",
       "      <td>...</td>\n",
       "      <td>...</td>\n",
       "      <td>...</td>\n",
       "      <td>...</td>\n",
       "    </tr>\n",
       "    <tr>\n",
       "      <td>585</td>\n",
       "      <td>Wimbledon</td>\n",
       "      <td>15.2</td>\n",
       "      <td>League One</td>\n",
       "      <td>England</td>\n",
       "    </tr>\n",
       "    <tr>\n",
       "      <td>586</td>\n",
       "      <td>Colchester</td>\n",
       "      <td>15.1</td>\n",
       "      <td>League Two</td>\n",
       "      <td>England</td>\n",
       "    </tr>\n",
       "    <tr>\n",
       "      <td>594</td>\n",
       "      <td>Tranmere Rovers</td>\n",
       "      <td>13.5</td>\n",
       "      <td>League One</td>\n",
       "      <td>England</td>\n",
       "    </tr>\n",
       "    <tr>\n",
       "      <td>597</td>\n",
       "      <td>Northampton</td>\n",
       "      <td>13.3</td>\n",
       "      <td>League Two</td>\n",
       "      <td>England</td>\n",
       "    </tr>\n",
       "    <tr>\n",
       "      <td>598</td>\n",
       "      <td>Rochdale</td>\n",
       "      <td>12.7</td>\n",
       "      <td>League One</td>\n",
       "      <td>England</td>\n",
       "    </tr>\n",
       "  </tbody>\n",
       "</table>\n",
       "<p>268 rows × 4 columns</p>\n",
       "</div>"
      ],
      "text/plain": [
       "                club  score          league  country\n",
       "0          Liverpool   94.1  Premier League  England\n",
       "1          Man. City   93.9  Premier League  England\n",
       "2      Bayern Munich   93.4      Bundesliga  Germany\n",
       "3                PSG   90.5         Ligue 1   France\n",
       "4        Real Madrid   90.1         La Liga    Spain\n",
       "..               ...    ...             ...      ...\n",
       "585        Wimbledon   15.2      League One  England\n",
       "586       Colchester   15.1      League Two  England\n",
       "594  Tranmere Rovers   13.5      League One  England\n",
       "597      Northampton   13.3      League Two  England\n",
       "598         Rochdale   12.7      League One  England\n",
       "\n",
       "[268 rows x 4 columns]"
      ]
     },
     "execution_count": 61,
     "metadata": {},
     "output_type": "execute_result"
    }
   ],
   "source": [
    "club_score_df"
   ]
  },
  {
   "cell_type": "code",
   "execution_count": 62,
   "metadata": {
    "ExecuteTime": {
     "end_time": "2020-01-10T13:22:24.979900Z",
     "start_time": "2020-01-10T13:22:24.941709Z"
    }
   },
   "outputs": [],
   "source": [
    "# load transfer data , for future merge use\n",
    "pkl_file = open('./temporary_pkl/transfer_span_reduced.pkl','rb')\n",
    "transfer_span_reduced = pickle.load(pkl_file)\n",
    "pkl_file.close()"
   ]
  },
  {
   "cell_type": "code",
   "execution_count": 63,
   "metadata": {
    "ExecuteTime": {
     "end_time": "2020-01-10T13:22:34.645001Z",
     "start_time": "2020-01-10T13:22:25.507783Z"
    }
   },
   "outputs": [],
   "source": [
    "club_std_name=list(transfer_span_reduced['club_name'].unique())\n",
    "\n",
    "#club_std_name looks like this:\n",
    "# ['Arsenal', 'Stoke City', 'Wolverhampton Wanderers', 'Chelsea',\n",
    "#        'Newcastle United', 'Fulham', 'West Bromwich Albion',\n",
    "#        'Manchester United', 'Wigan Athletic', 'Aston Villa',\n",
    "#        'West Ham United', 'Everton', 'Liverpool', 'Tottenham Hotspur',\n",
    "#        'Blackburn Rovers', 'Manchester City', 'Sunderland AFC',\n",
    "#        'Birmingham City', 'Bolton Wanderers', 'Blackpool', 'AC Milan',\n",
    "#        'AS Roma', 'Brescia Calcio', 'Internazionale', 'Parma', 'GenoaC',\n",
    "#        'AS Bari', 'SS Lazio', 'Udinese Calcio', 'AFiorentina',\n",
    "#        'US Palermo', 'Juventus', 'Chievo Verona', 'US Lecce', 'Bologna ',\n",
    "#        'UC Sampdoria', 'Cagliari Calcio', 'AC Cesena', 'Calcio Catania',\n",
    "#        'SSC Napoli', 'Girondins Bordeaux', 'AS Monaco',\n",
    "#        'Olympique Marseille', 'Stade Rennais', 'AJ Auxerre', 'Toulouse',\n",
    "#        'OGC Nice', 'Paris Saint-Germain', 'AS Saint-Étienne',\n",
    "#        'Sochaux-Montbéliard', 'RC Lens', 'HSC Montpellier',\n",
    "#        'Olympique Lyon', 'LOSC Lille', 'Lorient', 'AS Nancy-Lorraine',\n",
    "#        'SM Caen', 'Valenciennes', 'Stade Brest ',\n",
    "#        'Athlétic Club Arlésien', 'SL Benfica', 'Sporting CP', 'Porto',\n",
    "#        'CD Nacional', 'SC Braga', 'Vitória Setúbal', 'CS Marítimo',\n",
    "#        'SC Beira-Mar', 'Vitória Guimarães SC', 'Rio Ave',\n",
    "#        'União de Leiria', 'Académica Coimbra', 'Paços de Ferreira',\n",
    "#        'SC Olhanense', 'Naval º de Maio', 'Portimonense SC',\n",
    "#        'Borussia Dortmund', 'Bayern Munich', 'Schalke ',\n",
    "#        'Borussia Mönchengladbach', 'Bayer  Leverkusen', 'VfB Stuttgart',\n",
    "#        'Hannover ', 'VfL Wolfsburg', 'SV Werder Bremen', '.Nuremberg',\n",
    "#        'Eintracht Frankfurt', 'TSG  Hoffenheim', 'SC Freiburg',\n",
    "#        '.FSV Mainz ', 'Hamburger SV', '. Köln', '.Kaiserslautern',\n",
    "#        'St. Pauli', 'Atlético Madrid', 'Barcelona', 'Real Zaragoza',\n",
    "#        'RCD Mallorca', 'CA Osasuna', 'Sevilla', 'Real Madrid',\n",
    "#        'Racing Santander', 'Real Sociedad', 'RCD Espanyol Barcelona',\n",
    "#        'Deportivo de La Coruña', 'Valencia', 'Villarreal', 'Málaga',\n",
    "#        'Sporting Gijón', 'UD Almería', 'Levante UD', 'Getafe', 'Hércules',\n",
    "#        'Athletic Bilbao', 'NAC Breda', 'Roda JC Kerkrade', 'Utrecht',\n",
    "#        'Groningen', 'Feyenoord Rotterdam', 'SC Heerenveen',\n",
    "#        'Twente Enschede', 'PSV Eindhoven', 'Willem II Tilburg',\n",
    "#        'NEC Nijmegen', 'Vitesse Arnhem', 'Ajax Amsterdam',\n",
    "#        'De Graafschap Doetinchem', 'SBV Excelsior Rotterdam',\n",
    "#        'AZ Alkmaar', 'ADO Den Haag', 'Heracles Almelo', 'VVV-Venlo',\n",
    "#        'Queens Park Rangers', 'Norwich City', 'Swansea City',\n",
    "#        'Atalanta BC', 'AC Siena', 'Novara Calcio ', 'AC Ajaccio',\n",
    "#        'FCO Dijon', 'Évian Thonon Gaillard', 'Gil Vicente', 'CD Feirense',\n",
    "#        'Augsburg', 'Hertha BSC', 'Real Betis Balompié', 'Rayo Vallecano',\n",
    "#        'Granada', 'RKC Waalwijk', 'Southampton', 'Reading',\n",
    "#        'Delfino Pescara ', 'Torino', 'SC Bastia', 'ES Troyes AC',\n",
    "#        'Stade Reims', 'GD Estoril', 'Moreirense', 'SpVgg Greuther Fürth',\n",
    "#        'Fortuna Düsseldorf', 'Real Valladolid', 'Celta de Vigo',\n",
    "#        'PEC Zwolle', 'Cardiff City', 'Hull City', 'Crystal Palace',\n",
    "#        'Hellas Verona', 'AS Livorno', 'US Sassuolo', 'EA Guingamp',\n",
    "#        'Nantes', 'Belenenses SAD', 'Arouca', 'Eintracht Braunschweig',\n",
    "#        'Elche', 'SC Cambuur-Leeuwarden', 'Go Ahead Eagles Deventer',\n",
    "#        'Burnley', 'Leicester City', 'Empoli', 'Inter Milan', 'Metz',\n",
    "#        'Penafiel', 'Boavista Porto', 'SC Paderborn ', 'SD Eibar',\n",
    "#        'Córdoba', 'Dordrecht', 'ABournemouth', 'Watford', 'Carpi ',\n",
    "#        'Frosinone Calcio', 'SCO Angers', 'GAjaccio', 'CD Tondela',\n",
    "#        'União Madeira', 'Ingolstadt ', 'SV Darmstadt ', 'UD Las Palmas',\n",
    "#        'Middlesbrough', 'Crotone', 'GD Chaves', 'RB Leipzig',\n",
    "#        'Deportivo Alavés', 'CD Leganés', 'Sparta Rotterdam',\n",
    "#        'Brighton & Hove Albion', 'Huddersfield Town', 'Benevento Calcio',\n",
    "#        'SPAL ', 'SC Amiens', 'RC Strasbourg Alsace', 'Desportivo Aves',\n",
    "#        'Girona', 'Parma Calcio ', 'SPAL', 'Nîmes Olympique',\n",
    "#        'CD Santa Clara', 'SD Huesca', 'Emmen', 'Fortuna Sittard',\n",
    "#        'Sheffield United', 'Famalicão', '.Union Berlin']\n",
    "\n",
    "from fuzzywuzzy import process\n",
    "def rename(club,choices):\n",
    "    if club=='PSG':\n",
    "        return 'Paris Saint-Germain'\n",
    "    else:\n",
    "        return process.extractOne(club, choices)[0]\n",
    "\n",
    "club_score_cleaned_df=club_score_df.copy()\n",
    "club_score_cleaned_df['club']=club_score_df['club'].apply(lambda x: x if x in club_std_name else rename(x,club_std_name))\n",
    "\n",
    "\n"
   ]
  },
  {
   "cell_type": "code",
   "execution_count": 64,
   "metadata": {
    "ExecuteTime": {
     "end_time": "2020-01-10T13:22:53.093060Z",
     "start_time": "2020-01-10T13:22:53.086485Z"
    }
   },
   "outputs": [],
   "source": [
    "club_score_cleaned_df=club_score_cleaned_df.drop_duplicates('club')"
   ]
  },
  {
   "cell_type": "code",
   "execution_count": 65,
   "metadata": {
    "ExecuteTime": {
     "end_time": "2020-01-10T13:22:53.481403Z",
     "start_time": "2020-01-10T13:22:53.474042Z"
    }
   },
   "outputs": [],
   "source": [
    "# save the dataframe for future use\n",
    "pickle.dump(club_score_cleaned_df[['club','score']], open('./temporary_pkl/club_score_df.pkl', 'wb'))"
   ]
  },
  {
   "cell_type": "code",
   "execution_count": 68,
   "metadata": {
    "ExecuteTime": {
     "end_time": "2020-01-10T13:24:04.960762Z",
     "start_time": "2020-01-10T13:24:04.954156Z"
    }
   },
   "outputs": [
    {
     "data": {
      "text/plain": [
       "{'2. Bundesliga': 20.5,\n",
       " 'Bundesliga': 46.4,\n",
       " 'Championship': 34.2,\n",
       " 'Eredivisie': 16.7,\n",
       " 'La Liga': 49.7,\n",
       " 'La Liga 2': 17.3,\n",
       " 'League One': 10.7,\n",
       " 'Ligue 1': 39.3,\n",
       " 'Ligue 2': 12.9,\n",
       " 'Premier League': 50.1,\n",
       " 'Primeira Liga': 25.9,\n",
       " 'Serie A': 40.0,\n",
       " 'Serie B': 9.5}"
      ]
     },
     "execution_count": 68,
     "metadata": {},
     "output_type": "execute_result"
    }
   ],
   "source": [
    "# AS there are clubs not figuring in the clubs score list, we will need to fill up their score by a reasonable value \n",
    "# Noting that they are typically small clubs not reputed, we decide to fill up their value by the min value of \n",
    "# their league minus 10\n",
    "avrg_sc_by_league_dict = club_score_cleaned_df.groupby(\n",
    "    by='league')['score'].min().apply(lambda x:x-10).round(3).to_dict()\n",
    "avrg_sc_by_league_dict"
   ]
  },
  {
   "cell_type": "code",
   "execution_count": 67,
   "metadata": {
    "ExecuteTime": {
     "end_time": "2020-01-10T13:22:54.543606Z",
     "start_time": "2020-01-10T13:22:54.539181Z"
    }
   },
   "outputs": [],
   "source": [
    "pickle.dump(avrg_sc_by_league_dict, open('./temporary_pkl/avrg_sc_by_league_dict.pkl', 'wb'))"
   ]
  },
  {
   "cell_type": "code",
   "execution_count": null,
   "metadata": {},
   "outputs": [],
   "source": []
  }
 ],
 "metadata": {
  "kernelspec": {
   "display_name": "Python 3",
   "language": "python",
   "name": "python3"
  },
  "language_info": {
   "codemirror_mode": {
    "name": "ipython",
    "version": 3
   },
   "file_extension": ".py",
   "mimetype": "text/x-python",
   "name": "python",
   "nbconvert_exporter": "python",
   "pygments_lexer": "ipython3",
   "version": "3.7.3"
  }
 },
 "nbformat": 4,
 "nbformat_minor": 2
}
